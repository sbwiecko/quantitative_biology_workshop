{
 "cells": [
  {
   "cell_type": "markdown",
   "metadata": {},
   "source": [
    "## Syntax of Regular Expressions in Python\n",
    "\n",
    "All of the functions associated with regular expressions in Python are contained in the `re` module, so the very first thing we have to do is import it."
   ]
  },
  {
   "cell_type": "code",
   "execution_count": 1,
   "metadata": {},
   "outputs": [],
   "source": [
    "import re"
   ]
  },
  {
   "cell_type": "markdown",
   "metadata": {},
   "source": [
    "The most useful function in the re module is the search function. Its syntax is:\n",
    "\n",
    "```python\n",
    "re.search(pattern, string)\n",
    "```\n",
    "\n",
    "where pattern is the regular expression, and string is the string that we want to search for a match. The search function returns a \"match object\" depending on whether it finds a match of the pattern or not. This match object can be used in an if statement to determine if a match has been found.  \n",
    "\n",
    "```python\n",
    "myPattern = re.search(pattern, string)\n",
    "```"
   ]
  },
  {
   "cell_type": "code",
   "execution_count": 2,
   "metadata": {},
   "outputs": [],
   "source": [
    "s=\"Biology = 5Xfun!\""
   ]
  },
  {
   "cell_type": "code",
   "execution_count": 3,
   "metadata": {},
   "outputs": [
    {
     "data": {
      "text/plain": [
       "<re.Match object; span=(0, 16), match='Biology = 5Xfun!'>"
      ]
     },
     "execution_count": 3,
     "metadata": {},
     "output_type": "execute_result"
    }
   ],
   "source": [
    "re.search(\"\\S+\\s\\S+\\s\\S+\", s)"
   ]
  },
  {
   "cell_type": "code",
   "execution_count": 4,
   "metadata": {},
   "outputs": [],
   "source": [
    "re.search(\"\\w\\W\\w\\W\", s)"
   ]
  },
  {
   "cell_type": "code",
   "execution_count": 5,
   "metadata": {},
   "outputs": [
    {
     "data": {
      "text/plain": [
       "<re.Match object; span=(10, 11), match='5'>"
      ]
     },
     "execution_count": 5,
     "metadata": {},
     "output_type": "execute_result"
    }
   ],
   "source": [
    "re.search(\"\\d+\", s)"
   ]
  },
  {
   "cell_type": "code",
   "execution_count": 7,
   "metadata": {},
   "outputs": [
    {
     "data": {
      "text/plain": [
       "<re.Match object; span=(0, 10), match='Biology = '>"
      ]
     },
     "execution_count": 7,
     "metadata": {},
     "output_type": "execute_result"
    }
   ],
   "source": [
    "re.search(\"\\D+\", s)"
   ]
  },
  {
   "cell_type": "code",
   "execution_count": 8,
   "metadata": {},
   "outputs": [
    {
     "data": {
      "text/plain": [
       "<re.Match object; span=(0, 7), match='Biology'>"
      ]
     },
     "execution_count": 8,
     "metadata": {},
     "output_type": "execute_result"
    }
   ],
   "source": [
    "re.search(\"\\S+\", s)"
   ]
  },
  {
   "cell_type": "markdown",
   "metadata": {},
   "source": [
    "Some more practical example related to biology"
   ]
  },
  {
   "cell_type": "code",
   "execution_count": 10,
   "metadata": {},
   "outputs": [],
   "source": [
    "row = \"Sox2  chr3  34548926  34551382  +\"\n",
    "\n",
    "re.search(\"\\w\\s{2}chr\\w{,2}\\s{2}\\d+\\s{2}\\d+\\s{2}\\s{2}[\\+|\\-]\", row)"
   ]
  },
  {
   "cell_type": "code",
   "execution_count": 12,
   "metadata": {},
   "outputs": [
    {
     "data": {
      "text/plain": [
       "<re.Match object; span=(3, 33), match='2  chr3  34548926  34551382  +'>"
      ]
     },
     "execution_count": 12,
     "metadata": {},
     "output_type": "execute_result"
    }
   ],
   "source": [
    "re.search(\"\\w\\s{2}chr\\w{,2}\\s{2}(\\d+\\s{2}){2}[\\+|\\-]\", row)"
   ]
  },
  {
   "cell_type": "code",
   "execution_count": 13,
   "metadata": {},
   "outputs": [
    {
     "data": {
      "text/plain": [
       "<re.Match object; span=(0, 33), match='Sox2  chr3  34548926  34551382  +'>"
      ]
     },
     "execution_count": 13,
     "metadata": {},
     "output_type": "execute_result"
    }
   ],
   "source": [
    "re.search(\"\\w+\\s{2}chr\\w{,2}\\s{2}(\\d+\\s{2}){2}[\\+|\\-]\", row)"
   ]
  },
  {
   "cell_type": "code",
   "execution_count": 15,
   "metadata": {},
   "outputs": [
    {
     "data": {
      "text/plain": [
       "<re.Match object; span=(0, 33), match='Sox2  chr3  34548926  34551382  +'>"
      ]
     },
     "execution_count": 15,
     "metadata": {},
     "output_type": "execute_result"
    }
   ],
   "source": [
    "# the easiest answer and that minimizes potential for unexpected matches\n",
    "re.search(\"\\S+\\s+chr\\S+\\s+\\d+\\s+\\d+\\s+[+-]\", row)"
   ]
  },
  {
   "cell_type": "markdown",
   "metadata": {},
   "source": [
    "This match object also contains the part or parts of the string that match the pattern. You may recall that parentheses are used to specify groups for regular expressions to match. As it turns out, these groups are also contained within the match object. For example, if we have an expression like this:\n",
    "\n",
    "```\n",
    "\"(\\S+)\\s(MIT_\\S+)\\s\\S+\"\n",
    "```\n",
    "\n",
    "that is used for the search function, then we can use\n",
    "\n",
    "```python\n",
    "myPattern.group(1)\n",
    "```\n",
    "\n",
    "to get the first group (what is matched by `\"\\S+\"`), and\n",
    "\n",
    "```python\n",
    "myPattern.group(2)\n",
    "```\n",
    "\n",
    "to get the second group (in this case, a word starting with `\"MIT_\"`).  \n",
    "\n",
    "If we want to get the entire string matched by the pattern, we can use\n",
    "\n",
    "```python\n",
    "myPattern.group(0)\n",
    "```\n",
    "\n",
    "Now let's see how this looks in the `re.search` command.\n",
    "\n",
    "```python\n",
    "myPattern = re.search(r\"(\\S+)\\s(MIT_\\S+)\\s\\S+\", string)\n",
    "if myPattern:\n",
    "    print (myPattern.group(1)+myPattern.group(2))\n",
    "```\n",
    "\n",
    "Note that if we want to use a regular expression for the pattern parameter, we have to precede the string that specifies it with `'r'`, so Python knows to read it as a regular expression."
   ]
  },
  {
   "cell_type": "markdown",
   "metadata": {},
   "source": [
    "### What do these lines do?\n",
    "\n",
    "Working with regular expressions can be tricky because it can be hard to determine precisely what a line of code does.\n",
    "\n",
    "With that in mind, let's review the syntax of the previous Python code and regular expressions. Given the following line of text (a string) from a data file, where the string is formatted like so:\n",
    "\n",
    "_ID# GeneName chromosome DNA-Strand Expr1 Expr2 Expr3_, where Expr# is data from experiment #.\n",
    "\n",
    "Identify the action(s) the following lines of Python code perform(s)."
   ]
  },
  {
   "cell_type": "code",
   "execution_count": 4,
   "metadata": {},
   "outputs": [],
   "source": [
    "line = \"1684730100 Ter3A chr8 - 641.57 12.03 113.7\""
   ]
  },
  {
   "cell_type": "code",
   "execution_count": 5,
   "metadata": {},
   "outputs": [
    {
     "data": {
      "text/plain": [
       "<re.Match object; span=(0, 42), match='1684730100 Ter3A chr8 - 641.57 12.03 113.7'>"
      ]
     },
     "execution_count": 5,
     "metadata": {},
     "output_type": "execute_result"
    }
   ],
   "source": [
    "re.search(r\"\\d+\\s(\\S+)\\s\\S+\\s[+-]\\s(\\d+\\.?\\d*)\\s(\\d+\\.?\\d*)\\s(\\d+\\.?\\d*)\", line)"
   ]
  },
  {
   "cell_type": "code",
   "execution_count": 7,
   "metadata": {},
   "outputs": [],
   "source": [
    "pattern1 = re.search(r\"\\d+\\s\\S+\\s\\S+\\s[+-]\\s\\S+\\s\\S+\\s\\S+\", line)"
   ]
  },
  {
   "cell_type": "code",
   "execution_count": 8,
   "metadata": {},
   "outputs": [
    {
     "data": {
      "text/plain": [
       "<re.Match object; span=(0, 42), match='1684730100 Ter3A chr8 - 641.57 12.03 113.7'>"
      ]
     },
     "execution_count": 8,
     "metadata": {},
     "output_type": "execute_result"
    }
   ],
   "source": [
    "pattern1"
   ]
  },
  {
   "cell_type": "markdown",
   "metadata": {},
   "source": [
    "Both of the lines of code contain regular expressions that match the whole string of \"line\". So both re.search commands will return a match. The first regular expression contains parentheses specifying groups to save separately (specifically the gene name and the experimental data). The second line of code contains no parentheses to save particular groups, but saves the match object in a variable called pattern1."
   ]
  },
  {
   "cell_type": "code",
   "execution_count": 9,
   "metadata": {},
   "outputs": [],
   "source": [
    "pattern2 = re.search(r\"\\d+\\s\\S+\\s\\S+\\s[+-]\\s\\d+\\s\\d+\\s\\d+\", line)"
   ]
  },
  {
   "cell_type": "code",
   "execution_count": 11,
   "metadata": {},
   "outputs": [
    {
     "ename": "AttributeError",
     "evalue": "'NoneType' object has no attribute 'group'",
     "output_type": "error",
     "traceback": [
      "\u001b[1;31m---------------------------------------------------------------------------\u001b[0m",
      "\u001b[1;31mAttributeError\u001b[0m                            Traceback (most recent call last)",
      "Cell \u001b[1;32mIn [11], line 1\u001b[0m\n\u001b[1;32m----> 1\u001b[0m \u001b[38;5;28mprint\u001b[39m (\u001b[43mpattern2\u001b[49m\u001b[38;5;241;43m.\u001b[39;49m\u001b[43mgroup\u001b[49m(\u001b[38;5;241m1\u001b[39m))\n",
      "\u001b[1;31mAttributeError\u001b[0m: 'NoneType' object has no attribute 'group'"
     ]
    }
   ],
   "source": [
    "print (pattern2.group(1))"
   ]
  },
  {
   "cell_type": "markdown",
   "metadata": {},
   "source": [
    "The regular expression does not match any portion of the line due to the lack of accounting for decimal points, so there is nothing for pattern2.group(1) to return and the command gives an error."
   ]
  },
  {
   "cell_type": "code",
   "execution_count": 12,
   "metadata": {},
   "outputs": [
    {
     "name": "stdout",
     "output_type": "stream",
     "text": [
      "Ter3A\n"
     ]
    }
   ],
   "source": [
    "pattern2 = re.search(r\"\\d+\\s(\\S+)\\s\\S+\\s[+-]\\s(\\d+\\.?\\d*)\\s(\\d+\\.?\\d*)\\s(\\d+\\.?\\d*)\", line)\n",
    "print (pattern2.group(1))"
   ]
  },
  {
   "cell_type": "markdown",
   "metadata": {},
   "source": [
    "The regular expression contains parentheses defining groups to be saved separately in the match object. The first parentheses defined group is Ter3A. Entering pattern2.group(0) would still return the whole match."
   ]
  },
  {
   "cell_type": "markdown",
   "metadata": {},
   "source": [
    "### Writing Regular Expression Commands\n",
    "\n",
    "Recall the question \"Writing Regular Expressions\", in which we wrote an expression to match a data file of genomic coordinates for each gene formatted like so:\n",
    "\n",
    "```\n",
    "Sox2  chr3  34548926  34551382  +\n",
    "```\n",
    "\n",
    "Now put this expression into the re.search function, and create a match object \"myPattern\", which is fed lines of the file in a string called \"line\". Just match the whole line: do not specify any groups."
   ]
  },
  {
   "cell_type": "code",
   "execution_count": 6,
   "metadata": {},
   "outputs": [],
   "source": [
    "line = \"Sox2  chr3  34548926  34551382  +\"\n",
    "\n",
    "myPattern = re.search(\n",
    "    r\"\\S+\\s+chr\\S+\\s+\\d+\\s+\\d+\\s+[+-]\", # beware chr is not necessarily followed by digits\n",
    "    line\n",
    ")"
   ]
  },
  {
   "cell_type": "code",
   "execution_count": 7,
   "metadata": {},
   "outputs": [
    {
     "data": {
      "text/plain": [
       "<re.Match object; span=(0, 33), match='Sox2  chr3  34548926  34551382  +'>"
      ]
     },
     "execution_count": 7,
     "metadata": {},
     "output_type": "execute_result"
    }
   ],
   "source": [
    "myPattern"
   ]
  },
  {
   "cell_type": "markdown",
   "metadata": {},
   "source": [
    "Given a data file that lists departments by name with their average number of students, like so:\n",
    "```\n",
    "The Biology department averages 32 students/class\n",
    "```\n",
    "write the command that will match the whole line and specify in groups only the names of the various departments and the numbers of students for further use in the object \"myPattern\". Assume that each line of the file is supplied to the command by way of a string named \"line\". Your goal should be to create groups of whatever the department name might be and whatever the student number might be for each line of the hypothetical file."
   ]
  },
  {
   "cell_type": "code",
   "execution_count": 12,
   "metadata": {},
   "outputs": [],
   "source": [
    "line = \"The Biology department averages 32 students/class\"\n",
    "pattern = r\"The (\\S+) department averages (\\d+) students\\/class\"\n",
    "\n",
    "# r\"The\\s(\\S+)\\sdepartment\\saverages\\s(\\S+)\\sstudents\\/class\" # is another solution\n",
    "\n",
    "myPattern = re.search(\n",
    "    pattern,\n",
    "    line\n",
    ")"
   ]
  },
  {
   "cell_type": "code",
   "execution_count": 18,
   "metadata": {},
   "outputs": [
    {
     "data": {
      "text/plain": [
       "<re.Match object; span=(0, 49), match='The Biology department averages 32 students/class>"
      ]
     },
     "execution_count": 18,
     "metadata": {},
     "output_type": "execute_result"
    }
   ],
   "source": [
    "myPattern"
   ]
  },
  {
   "cell_type": "code",
   "execution_count": 19,
   "metadata": {},
   "outputs": [
    {
     "name": "stdout",
     "output_type": "stream",
     "text": [
      "Biology\n",
      "32\n"
     ]
    }
   ],
   "source": [
    "print(myPattern.group(1))\n",
    "print(myPattern.group(2))"
   ]
  },
  {
   "cell_type": "markdown",
   "metadata": {},
   "source": [
    "Define a function named chromosome_regex that takes input line and uses the search command to match a line of a file like the one shown into a match object called myPattern:\n",
    "```\n",
    "Sox2  chr3  34548926  34551382  +\n",
    "```"
   ]
  },
  {
   "cell_type": "code",
   "execution_count": 24,
   "metadata": {},
   "outputs": [],
   "source": [
    "def chromosome_regex(line: str = \"\") -> str:\n",
    "    \"\"\"\n",
    "    Takes input line and uses the search command to match a line of a file like the one shown into a match object called myPattern:\n",
    "    ```\n",
    "    Sox2  chr3  34548926  34551382  +\n",
    "    ```\n",
    "    Returns the matched string from the match object\n",
    "    \"\"\"\n",
    "\n",
    "    import re\n",
    "\n",
    "    return re.search(r\"\\S+\\s+(chr\\S+)\\s+\\d+\\s+\\d+\\s+[+-]\", line).group() # with group(1) we get the chromosome ID\n"
   ]
  },
  {
   "cell_type": "code",
   "execution_count": 25,
   "metadata": {},
   "outputs": [
    {
     "data": {
      "text/plain": [
       "'Sox2  chr3  34548926  34551382  +'"
      ]
     },
     "execution_count": 25,
     "metadata": {},
     "output_type": "execute_result"
    }
   ],
   "source": [
    "chromosome_regex('Sox2  chr3  34548926  34551382  +')"
   ]
  },
  {
   "cell_type": "markdown",
   "metadata": {},
   "source": [
    "### Writing Regular Expressions: Application\n",
    "\n",
    "Given what you went through so far, you should now be able to write scripts that search strings, specify relevant groups using regular expressions, and return just the data you are looking for. Let's give it a try. Note: This question is set to unlimited attempts.\n",
    "\n",
    "Write a function named 'RNAseqParser' that:\n",
    "\n",
    "* Takes an input string of data.\n",
    "* Creates the output string with the repeating format \"x/ty/n...\", where\n",
    "    **x** is the gene name\n",
    "    **\\t** is a tab\n",
    "    **y** is the x gene's expression data found in the 5th column of the original data file\n",
    "    **\\n** is a line return\n",
    "    You could accomplish this by searching each line of the data with the for line in X: for loop syntax (where X is your inputted data), and storing the match information in a match object.\n",
    "* Returns your properly formatted output string.\n",
    "\n",
    "Remember to import any modules you might need, and keep in mind that some genes have expression values of zero. In this embedded Python grader, paste your final code to be graded after developing and debugging it in your local Spyder (or other) IDE. Click Submit to have your code graded."
   ]
  },
  {
   "cell_type": "code",
   "execution_count": 117,
   "metadata": {},
   "outputs": [
    {
     "name": "stdout",
     "output_type": "stream",
     "text": [
      "<re.Match object; span=(0, 64), match='ENSMUSG00000000708\\tKat2b\\t9.379815\\t0.37079784\\t>\n",
      "ENSMUSG00000000708\tKat2b\t9.379815\t0.37079784\t1.1033436\t5.6754346\n",
      "Kat2b\n",
      "1.1033436\n"
     ]
    }
   ],
   "source": [
    "example_line = \"ENSMUSG00000000708\\tKat2b\\t9.379815\\t0.37079784\\t1.1033436\\t5.6754346\"\n",
    "patt = re.search(r\"\\S+\\t(\\S+)\\t\\d*\\.\\d+\\t\\d*\\.\\d+\\t(\\d*\\.\\d+)\\t\\d*\\.\\d+\", example_line) # \\d*\\.\\d+ to capture floating\n",
    "print(patt)\n",
    "print(patt.group(0))\n",
    "print(patt.group(1))\n",
    "print(patt.group(2))\n"
   ]
  },
  {
   "cell_type": "code",
   "execution_count": 168,
   "metadata": {},
   "outputs": [],
   "source": [
    "def RNAseqParser(filename:str=\"\") -> str:\n",
    "    import re\n",
    "\n",
    "    output = \"\" # will store the final output\n",
    "    \n",
    "    with open(filename, 'r') as data:\n",
    "\n",
    "        data_string = data.readline().strip(\"'\").lstrip(\"\\\\n\") # a string is encoded in the example file\n",
    "        \n",
    "        for line in data_string.split('\\\\n'):\n",
    "            if line.startswith(\"ensGene\"): # we skip the first row\n",
    "                continue\n",
    "            \n",
    "            pattern_search = re.search(\n",
    "                r\"\\S+\\\\t(\\S+)\\\\t\\d*\\.\\d+\\\\t\\d*\\.\\d+\\\\t(\\d*\\.\\d+)\\\\t\\d*\\.\\d+\",\n",
    "                line\n",
    "            )\n",
    "            \n",
    "            output += (pattern_search.group(1) + '\\t' + pattern_search.group(2) + '\\n')\n",
    "    return output"
   ]
  },
  {
   "cell_type": "code",
   "execution_count": 169,
   "metadata": {},
   "outputs": [
    {
     "name": "stdout",
     "output_type": "stream",
     "text": [
      "Tcfe3\t7.205497\n",
      "Kat2b\t1.1033436\n",
      "Snrpn\t13.403415\n",
      "Rmnd5b\t14.050683\n",
      "Fbxo9\t6.499769\n",
      "Def8\t15.014166\n",
      "Ell2\t3.5680292\n",
      "Ifrd1\t15.508437\n",
      "Akr1b3\t1.2716209\n",
      "Ubl3\t9.046656\n",
      "Mov10\t6.25411\n",
      "Pdcd2l\t15.635618\n",
      "Clpp\t32.20393\n",
      "Mrpl2\t50.002293\n",
      "Pnkp\t6.193148\n",
      "Relb\t1.7450844\n",
      "Klf4\t4.1997404\n",
      "Ciao1\t9.724962\n",
      "Rad23a\t15.284632\n",
      "Atp6v1f\t24.671564\n",
      "Arhgef18\t5.004999\n",
      "Polr2e\t36.53202\n",
      "\n"
     ]
    }
   ],
   "source": [
    "print(RNAseqParser('./input_string.txt'))"
   ]
  },
  {
   "cell_type": "code",
   "execution_count": 316,
   "metadata": {},
   "outputs": [],
   "source": [
    "def RNAseqParser(data:str=\"\") -> str:\n",
    "    import re\n",
    "\n",
    "    output = \"\" # will store the final output\n",
    "\n",
    "    for line in data.split('\\n')[1:]: # first line is blank\n",
    "        if \"ensGene\" in line: # we skip the first row\n",
    "            continue\n",
    "        \n",
    "        pattern_search = re.search(\n",
    "            r\"\\S+\\t(\\S+)\\t\\d*\\.\\d+\\t\\d*\\.\\d+\\t(\\d*\\.\\d+)\\t\\d*\\.\\d+\",\n",
    "            line\n",
    "        )\n",
    "\n",
    "        output += (pattern_search.group(1) + '\\t' + pattern_search.group(2) + '\\n')\n",
    "    return output"
   ]
  },
  {
   "cell_type": "code",
   "execution_count": 317,
   "metadata": {},
   "outputs": [
    {
     "data": {
      "text/plain": [
       "'Tcfe3\\t7.205497\\nKat2b\\t1.1033436\\nSnrpn\\t13.403415\\nRmnd5b\\t14.050683\\nFbxo9\\t6.499769\\nDef8\\t15.014166\\nEll2\\t3.5680292\\nIfrd1\\t15.508437\\nAkr1b3\\t1.2716209\\nUbl3\\t9.046656\\nMov10\\t6.25411\\nPdcd2l\\t15.635618\\nClpp\\t32.20393\\nMrpl2\\t50.002293\\nPnkp\\t6.193148\\nRelb\\t1.7450844\\nKlf4\\t4.1997404\\nCiao1\\t9.724962\\nRad23a\\t15.284632\\nAtp6v1f\\t24.671564\\nArhgef18\\t5.004999\\nPolr2e\\t36.53202\\n'"
      ]
     },
     "execution_count": 317,
     "metadata": {},
     "output_type": "execute_result"
    }
   ],
   "source": [
    "RNAseqParser('\\nensGene\\tgeneSymb\\tESC.RPKM\\tMES.RPKM\\tCP.RPKM\\tCM.RPKM\\nENSMUSG00000000134\\tTcfe3\\t14.92599\\t6.080252\\t7.205497\\t5.5972915\\nENSMUSG00000000708\\tKat2b\\t9.379815\\t0.37079784\\t1.1033436\\t5.6754346\\nENSMUSG00000000948\\tSnrpn\\t40.668293\\t14.529371\\t13.403415\\t23.01873\\nENSMUSG00000001054\\tRmnd5b\\t43.369095\\t7.0136724\\t14.050683\\t11.829396\\nENSMUSG00000001366\\tFbxo9\\t7.6720843\\t6.9369035\\t6.499769\\t6.778531\\nENSMUSG00000001482\\tDef8\\t24.153797\\t15.451096\\t15.014166\\t13.819534\\nENSMUSG00000001542\\tEll2\\t8.156232\\t3.5004125\\t3.5680292\\t2.2641196\\nENSMUSG00000001627\\tIfrd1\\t28.733929\\t16.701181\\t15.508437\\t12.778727\\nENSMUSG00000001642\\tAkr1b3\\t4.319858\\t1.9163351\\t1.2716209\\t0.82428175\\nENSMUSG00000001687\\tUbl3\\t28.78591\\t9.088697\\t9.046656\\t20.373514\\nENSMUSG00000002227\\tMov10\\t29.740297\\t3.2102342\\t6.25411\\t9.091757\\nENSMUSG00000002635\\tPdcd2l\\t30.69546\\t18.50777\\t15.635618\\t15.247209\\nENSMUSG00000002660\\tClpp\\t93.85232\\t51.403442\\t32.20393\\t33.370808\\nENSMUSG00000002767\\tMrpl2\\t86.59501\\t61.894024\\t50.002293\\t51.35253\\nENSMUSG00000002963\\tPnkp\\t8.918158\\t5.5222096\\t6.193148\\t6.496989\\nENSMUSG00000002983\\tRelb\\t7.0391517\\t1.501116\\t1.7450844\\t2.5017977\\nENSMUSG00000003032\\tKlf4\\t41.70846\\t7.747598\\t4.1997404\\t6.5344357\\nENSMUSG00000003662\\tCiao1\\t15.639003\\t11.429388\\t9.724962\\t11.069197\\nENSMUSG00000003813\\tRad23a\\t30.253717\\t16.276289\\t15.284632\\t21.372665\\nENSMUSG00000004285\\tAtp6v1f\\t30.517672\\t23.897362\\t24.671564\\t25.907063\\nENSMUSG00000004568\\tArhgef18\\t13.561201\\t6.151879\\t5.004999\\t6.8743706\\nENSMUSG00000004667\\tPolr2e\\t91.243706\\t51.02243\\t36.53202\\t33.37132')"
   ]
  },
  {
   "cell_type": "code",
   "execution_count": 318,
   "metadata": {},
   "outputs": [],
   "source": [
    "# another correct answer\n",
    "\n",
    "import re\n",
    "      \n",
    "def RNAseqParser(input_string): \n",
    "    list = [] #creates empty list\n",
    "    list = input_string.split('\\n') #converts input_string into a list of strings separated by \\n\n",
    "    \n",
    "    output_string = ''  #creates empty string object  \n",
    "    for string in list: #for loop iterates with each string in your list \n",
    "        pattern = re.search(r'(ENSMUSG\\d+)\\s+(\\w+)\\s+(\\d+.\\d+)\\s+(\\d+.\\d+)\\s+(\\d+.\\d+)\\s+(\\d+.\\d+)', string) #searches for a match to your regular expression\n",
    "        if pattern: #if a match to your regular expression is found...\n",
    "            #...you add a string consisting of the gene name (group 2), a space (\\t),  CP.RPKM value (group 5) and a line break (\\n) to your output string object\n",
    "            output_string += pattern.group(2) + '\\t' + pattern.group(5) + '\\n' \n",
    "    return output_string"
   ]
  },
  {
   "cell_type": "code",
   "execution_count": 319,
   "metadata": {},
   "outputs": [],
   "source": [
    "# a last one\n",
    "\n",
    "import re\n",
    "\n",
    "def RNAseqParser(text):\n",
    "    ans = ''\n",
    "    data = text.split('\\n')\n",
    "    for line in data:\n",
    "        genePattern = re.search(r'(ENS\\S+)\\s(\\S+)\\s(\\d+[.]*\\d*)\\s(\\d+[.]*\\d*)\\s(\\d+[.]*\\d*)\\s(\\d+[.]*\\d*)', line)\n",
    "        if genePattern:\n",
    "            ans += genePattern.group(2) + '\\t' + genePattern.group(5) + '\\n'\n",
    "    return ans"
   ]
  },
  {
   "cell_type": "code",
   "execution_count": null,
   "metadata": {},
   "outputs": [],
   "source": []
  }
 ],
 "metadata": {
  "kernelspec": {
   "display_name": "Python 3.10.6 64-bit",
   "language": "python",
   "name": "python3"
  },
  "language_info": {
   "codemirror_mode": {
    "name": "ipython",
    "version": 3
   },
   "file_extension": ".py",
   "mimetype": "text/x-python",
   "name": "python",
   "nbconvert_exporter": "python",
   "pygments_lexer": "ipython3",
   "version": "3.10.7"
  },
  "orig_nbformat": 4,
  "vscode": {
   "interpreter": {
    "hash": "48fad77966b7472878a315f3b299a8a5fde8f3976a84f77b0641baae73a364c0"
   }
  }
 },
 "nbformat": 4,
 "nbformat_minor": 2
}
