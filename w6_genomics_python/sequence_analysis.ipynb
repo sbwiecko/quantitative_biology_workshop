{
 "cells": [
  {
   "cell_type": "markdown",
   "metadata": {},
   "source": [
    "# File input/output\n",
    "\n",
    "In this section and the next, you will create a number of data structures:\n",
    "\n",
    "| Object Name | Object Description |\n",
    "|---|---|\n",
    "| gene_file | string of file name of mouse genome selection |\n",
    "| fopen | list where each element is a line of gene_file |\n",
    "| gene_info | dict of the contents of gene_file, where keys are gene names and values are everything associated with them |\n",
    "| chroms | list of all the chromosomes included in gene_info |\n",
    "| gene_counts | dict with chromosome name as key and number of genes contained as value |\n",
    "| fa_file | string of file name of FASTA formatted select mouse gene sequences (selChroms.mm9.fa.zip) |\n",
    "| seq_dict | dict of the fa_file content (short dict, lots of sequence) |\n",
    "| cntn4 | string of Cntn4 gene identifier, uc009dcr.2 |\n",
    "| hchr | string of chromosome number of Cntn4 gene location |\n",
    "| hst | string of location of start site of Cntn4 gene |\n",
    "| hen | string of location of end site of Cntn4 gene |\n",
    "| cntn4_seq | string of sequence of Cntn4 |\n",
    "| gene_lengths | dict of gene names as keys, and gene lengths as values |\n",
    "| in_gene | set of gene names as keys, and the range of the indices of chromosome location. |\n",
    "| chr6_starts | dict of chromosome 6 gene names as keys, and their start sites as values. |\n",
    "| tata_dist | dict of gene names as keys, and the index, if any, of the nearest TATA to its start. |\n"
   ]
  },
  {
   "cell_type": "markdown",
   "metadata": {},
   "source": [
    "## Importing course module functions\n",
    "\n",
    "Since you followed the instructions in [Downloading Necessary Files](https://courses.edx.org/courses/course-v1:MITx+7.QBWx+2T2022/jump_to_id/ec0617e829984077b9670f3fdbea25e4), your working directory now contains the downloaded Python module. Instead of importing the entire module, we will just grab the associated functions from it using this command. This makes it easier to call the commands later on:"
   ]
  },
  {
   "cell_type": "code",
   "execution_count": 1,
   "metadata": {},
   "outputs": [],
   "source": [
    "from qbwPythonModule import *"
   ]
  },
  {
   "cell_type": "markdown",
   "metadata": {},
   "source": [
    "## input/ouput: opening the data in Python\n",
    "\n",
    "You have downloaded a list of genes from part of the mouse genome. This is data from the [UCSC genome browser](http://genome.ucsc.edu/) that maintains genomic information across many organisms as they have been sequenced.\n",
    "\n",
    "First, assign the file name to a variable so that you do not have to type it too frequently."
   ]
  },
  {
   "cell_type": "code",
   "execution_count": 2,
   "metadata": {},
   "outputs": [],
   "source": [
    "gene_file='mm9_sel_chroms_knownGene.txt' # mouse chromosome sequences"
   ]
  },
  {
   "cell_type": "markdown",
   "metadata": {},
   "source": [
    "Now reading a file is straightforward in Python.  The easiest way is to use the readlines command to get the file in a list, where each element in the list is the content of a line."
   ]
  },
  {
   "cell_type": "code",
   "execution_count": 3,
   "metadata": {},
   "outputs": [],
   "source": [
    "fopen=open(gene_file).readlines() # readlines() retunrs a list containing each line in the file"
   ]
  },
  {
   "cell_type": "markdown",
   "metadata": {},
   "source": [
    "Now that the file is simply a list, you can check its length:"
   ]
  },
  {
   "cell_type": "code",
   "execution_count": 4,
   "metadata": {},
   "outputs": [
    {
     "data": {
      "text/plain": [
       "10674"
      ]
     },
     "execution_count": 4,
     "metadata": {},
     "output_type": "execute_result"
    }
   ],
   "source": [
    "len(fopen)"
   ]
  },
  {
   "cell_type": "markdown",
   "metadata": {},
   "source": [
    "There should be 10,674 lines in the file.\n",
    "\n",
    "You can now access fopen to peek at various parts of the list:"
   ]
  },
  {
   "cell_type": "code",
   "execution_count": 5,
   "metadata": {},
   "outputs": [
    {
     "data": {
      "text/plain": [
       "'uc009auw.1\\tchr6\\t+\\t3238518\\t3267019\\t3238518\\t3238518\\t3\\t3238518,3264405,3266613,\\t3238700,3264550,3267019,\\t\\tuc009auw.1\\n'"
      ]
     },
     "execution_count": 5,
     "metadata": {},
     "output_type": "execute_result"
    }
   ],
   "source": [
    "fopen[0]"
   ]
  },
  {
   "cell_type": "code",
   "execution_count": 6,
   "metadata": {},
   "outputs": [
    {
     "data": {
      "text/plain": [
       "'uc009dmc.2\\tchr6\\t-\\t119265150\\t119280784\\t119267073\\t119273733\\t5\\t119265150,119270438,119273666,119274218,119280512,\\t119267528,119271029,119273795,119274426,119280784,\\tQ8BGX3\\tuc009dmc.2\\n'"
      ]
     },
     "execution_count": 6,
     "metadata": {},
     "output_type": "execute_result"
    }
   ],
   "source": [
    "fopen[1999]"
   ]
  },
  {
   "cell_type": "markdown",
   "metadata": {},
   "source": [
    "However, this is pretty difficult to interpret.  The course module you loaded earlier contains a command called loadGeneFile designed to parse this file automatically into a nice dictionary."
   ]
  },
  {
   "cell_type": "code",
   "execution_count": 7,
   "metadata": {},
   "outputs": [
    {
     "name": "stdout",
     "output_type": "stream",
     "text": [
      "Parsed info for 10674 genes on 4 chromosomes\n"
     ]
    }
   ],
   "source": [
    "gene_info=loadGeneFile(gene_file)"
   ]
  },
  {
   "cell_type": "markdown",
   "metadata": {},
   "source": [
    "Now you can use the dictionary structure to analyze the data in the file. The keys of the dictionary represent gene names. "
   ]
  },
  {
   "cell_type": "code",
   "execution_count": 8,
   "metadata": {},
   "outputs": [],
   "source": [
    "#gene_info.keys()"
   ]
  },
  {
   "cell_type": "markdown",
   "metadata": {},
   "source": [
    "Each gene name can be used to access the necessary information, such as the chromosome and position of the gene on the chromosome:"
   ]
  },
  {
   "cell_type": "code",
   "execution_count": 9,
   "metadata": {},
   "outputs": [
    {
     "data": {
      "text/plain": [
       "'chr6'"
      ]
     },
     "execution_count": 9,
     "metadata": {},
     "output_type": "execute_result"
    }
   ],
   "source": [
    "gene_info['uc009auw.1']['chr']"
   ]
  },
  {
   "cell_type": "code",
   "execution_count": 10,
   "metadata": {},
   "outputs": [
    {
     "data": {
      "text/plain": [
       "3238518"
      ]
     },
     "execution_count": 10,
     "metadata": {},
     "output_type": "execute_result"
    }
   ],
   "source": [
    "gene_info['uc009auw.1']['start']"
   ]
  },
  {
   "cell_type": "markdown",
   "metadata": {},
   "source": [
    "## evaluating the data\n",
    "\n",
    "### counting chromosomes\n",
    "\n",
    "The first question to ask is how many chromosomes are in this file?  I only selected a subset to be included in this course. \n",
    "\n",
    "To count the chromosomes we first create a list. Then for each gene, we look to see if the chromosome is in list.  If not, we add it:"
   ]
  },
  {
   "cell_type": "code",
   "execution_count": 11,
   "metadata": {},
   "outputs": [
    {
     "data": {
      "text/plain": [
       "['chr6', 'chr11', 'chr15', 'chr16']"
      ]
     },
     "execution_count": 11,
     "metadata": {},
     "output_type": "execute_result"
    }
   ],
   "source": [
    "chroms=[]\n",
    "\n",
    "for k in gene_info.keys():\n",
    "    chrom=gene_info[k]['chr']\n",
    "    if chrom not in chroms:\n",
    "        chroms=chroms+[chrom]\n",
    "\n",
    "# final list of chromosomes\n",
    "chroms"
   ]
  },
  {
   "cell_type": "markdown",
   "metadata": {},
   "source": [
    "### counting genes\n",
    "\n",
    "Now for each chromosome we can count how many genes are on each chromosome by navigating through the dictionary of information.\n",
    "\n",
    "We first create a dictionary to store the relevant information. Then we can populate that new dictionary using two for loops: one for each chromosome and one for each gene:"
   ]
  },
  {
   "cell_type": "code",
   "execution_count": 12,
   "metadata": {},
   "outputs": [
    {
     "data": {
      "text/plain": [
       "{'chr6': 2990, 'chr11': 3899, 'chr15': 2110, 'chr16': 1675}"
      ]
     },
     "execution_count": 12,
     "metadata": {},
     "output_type": "execute_result"
    }
   ],
   "source": [
    "gene_counts={}\n",
    "\n",
    "# we iterate through each of the chromosomes we have collected and count how many genes are on that chromosome\n",
    "for chrom in chroms:\n",
    "    chrom_count=0 \n",
    "    for k in gene_info.keys():\n",
    "        if gene_info[k]['chr']==chrom:\n",
    "            chrom_count+=1\n",
    "    gene_counts[chrom]=chrom_count\n",
    "\n",
    "# you should have a dictionary where the chromosome names are the keys and the values are the number of genes on each chromosome.\n",
    "gene_counts"
   ]
  },
  {
   "cell_type": "markdown",
   "metadata": {},
   "source": [
    "# Finding Annotated Genes in Genomic Data\n",
    "\n",
    "Now that we have the gene information, it is time to read in the raw gene sequences. These sequences are stored in what is called the FASTA format, which originated in the 80s to align protein sequences and is now the standard way to view gene or protein sequences. "
   ]
  },
  {
   "cell_type": "code",
   "execution_count": 13,
   "metadata": {},
   "outputs": [],
   "source": [
    "fa_file='selChroms_mm9.fa.zip'"
   ]
  },
  {
   "cell_type": "markdown",
   "metadata": {},
   "source": [
    "The course module has a function to load these sequences into a dictionary.  Be careful, it might take a minute or two."
   ]
  },
  {
   "cell_type": "code",
   "execution_count": 14,
   "metadata": {},
   "outputs": [
    {
     "name": "stdout",
     "output_type": "stream",
     "text": [
      "will load from zip\n",
      "Parsed line 10000\n",
      "Parsed line 20000\n",
      "Parsed line 30000\n",
      "Parsed line 40000\n",
      "Parsed line 50000\n",
      "Parsed line 60000\n",
      "Parsed line 70000\n",
      "Parsed line 80000\n",
      "Parsed line 90000\n",
      "Parsed line 100000\n",
      "Parsed line 110000\n",
      "Parsed line 120000\n",
      "Parsed line 130000\n",
      "Parsed line 140000\n",
      "Parsed line 150000\n",
      "Parsed line 160000\n",
      "Parsed line 170000\n",
      "Parsed line 180000\n",
      "Parsed line 190000\n",
      "Parsed line 200000\n",
      "Parsed line 210000\n",
      "Parsed line 220000\n",
      "Parsed line 230000\n",
      "Parsed line 240000\n",
      "Parsed line 250000\n",
      "Parsed line 260000\n",
      "Parsed line 270000\n",
      "Parsed line 280000\n",
      "Parsed line 290000\n",
      "Parsed line 300000\n",
      "Parsed line 310000\n",
      "Parsed line 320000\n",
      "Parsed line 330000\n",
      "Parsed line 340000\n",
      "Parsed line 350000\n",
      "Parsed line 360000\n",
      "Parsed line 370000\n",
      "Parsed line 380000\n",
      "Parsed line 390000\n",
      "Parsed line 400000\n",
      "Parsed line 410000\n",
      "Parsed line 420000\n",
      "Parsed line 430000\n",
      "Parsed line 440000\n",
      "Parsed line 450000\n",
      "Parsed line 460000\n",
      "Parsed line 470000\n",
      "Parsed line 480000\n",
      "Parsed line 490000\n",
      "Parsed line 500000\n",
      "Parsed line 510000\n",
      "Parsed line 520000\n",
      "Parsed line 530000\n",
      "Parsed line 540000\n",
      "Parsed line 550000\n",
      "Parsed line 560000\n",
      "Parsed line 570000\n",
      "Parsed line 580000\n",
      "Parsed line 590000\n",
      "Parsed line 600000\n",
      "Parsed line 610000\n",
      "Parsed line 620000\n",
      "Parsed line 630000\n",
      "Parsed line 640000\n",
      "Parsed line 650000\n",
      "Parsed line 660000\n",
      "Parsed line 670000\n",
      "Parsed line 680000\n",
      "Parsed line 690000\n",
      "Parsed line 700000\n",
      "Parsed line 710000\n",
      "Parsed line 720000\n",
      "Parsed line 730000\n",
      "Parsed line 740000\n",
      "Parsed line 750000\n",
      "Parsed line 760000\n",
      "Parsed line 770000\n",
      "Parsed line 780000\n",
      "Parsed line 790000\n",
      "Parsed line 800000\n",
      "Parsed line 810000\n",
      "Parsed line 820000\n",
      "Parsed line 830000\n",
      "Parsed line 840000\n",
      "Parsed line 850000\n",
      "Parsed line 860000\n",
      "Parsed line 870000\n",
      "Parsed line 880000\n",
      "Parsed line 890000\n",
      "Parsed line 900000\n",
      "Parsed line 910000\n",
      "Parsed line 920000\n",
      "Parsed line 930000\n",
      "Parsed line 940000\n",
      "Parsed line 950000\n",
      "Parsed line 960000\n",
      "Parsed line 970000\n",
      "Parsed line 980000\n",
      "Parsed line 990000\n",
      "Parsed line 1000000\n",
      "Parsed line 1010000\n",
      "Parsed line 1020000\n",
      "Parsed line 1030000\n",
      "Parsed line 1040000\n",
      "Parsed line 1050000\n",
      "Parsed line 1060000\n",
      "Parsed line 1070000\n",
      "Parsed line 1080000\n",
      "Parsed line 1090000\n",
      "Parsed line 1100000\n",
      "Parsed line 1110000\n",
      "Parsed line 1120000\n",
      "Parsed line 1130000\n",
      "Parsed line 1140000\n",
      "Parsed line 1150000\n",
      "Parsed line 1160000\n",
      "Parsed line 1170000\n",
      "Parsed line 1180000\n",
      "Parsed line 1190000\n",
      "Parsed line 1200000\n",
      "Parsed line 1210000\n",
      "Parsed line 1220000\n",
      "Parsed line 1230000\n",
      "Parsed line 1240000\n",
      "Parsed line 1250000\n",
      "Parsed line 1260000\n",
      "Parsed line 1270000\n",
      "Parsed line 1280000\n",
      "Parsed line 1290000\n",
      "Parsed line 1300000\n",
      "Parsed line 1310000\n",
      "Parsed line 1320000\n",
      "Parsed line 1330000\n",
      "Parsed line 1340000\n",
      "Parsed line 1350000\n",
      "Parsed line 1360000\n",
      "Parsed line 1370000\n",
      "Parsed line 1380000\n",
      "Parsed line 1390000\n",
      "Parsed line 1400000\n",
      "Parsed line 1410000\n",
      "Parsed line 1420000\n",
      "Parsed line 1430000\n",
      "Parsed line 1440000\n",
      "Parsed line 1450000\n",
      "Parsed line 1460000\n",
      "Parsed line 1470000\n",
      "Parsed line 1480000\n",
      "Parsed line 1490000\n",
      "Parsed line 1500000\n",
      "Parsed line 1510000\n",
      "Parsed line 1520000\n",
      "Parsed line 1530000\n",
      "Parsed line 1540000\n",
      "Parsed line 1550000\n",
      "Parsed line 1560000\n",
      "Parsed line 1570000\n",
      "Parsed line 1580000\n",
      "Parsed line 1590000\n",
      "Parsed line 1600000\n",
      "Parsed line 1610000\n",
      "Parsed line 1620000\n",
      "Parsed line 1630000\n",
      "Parsed line 1640000\n",
      "Parsed line 1650000\n",
      "Parsed line 1660000\n",
      "Parsed line 1670000\n",
      "Parsed line 1680000\n",
      "Parsed line 1690000\n",
      "Parsed line 1700000\n",
      "Parsed line 1710000\n",
      "Parsed line 1720000\n",
      "Parsed line 1730000\n",
      "Parsed line 1740000\n",
      "Parsed line 1750000\n",
      "Parsed line 1760000\n",
      "Parsed line 1770000\n",
      "Parsed line 1780000\n",
      "Parsed line 1790000\n",
      "Parsed line 1800000\n",
      "Parsed line 1810000\n",
      "Parsed line 1820000\n",
      "Parsed line 1830000\n",
      "Parsed line 1840000\n",
      "Parsed line 1850000\n",
      "Parsed line 1860000\n",
      "Parsed line 1870000\n",
      "Parsed line 1880000\n",
      "Parsed line 1890000\n",
      "Parsed line 1900000\n",
      "Parsed line 1910000\n",
      "Parsed line 1920000\n",
      "Parsed line 1930000\n",
      "Parsed line 1940000\n",
      "Parsed line 1950000\n",
      "Parsed line 1960000\n",
      "Parsed line 1970000\n",
      "Parsed line 1980000\n",
      "Parsed line 1990000\n",
      "Parsed line 2000000\n",
      "Parsed line 2010000\n",
      "Parsed line 2020000\n",
      "Parsed line 2030000\n",
      "Parsed line 2040000\n",
      "Parsed line 2050000\n",
      "Parsed line 2060000\n",
      "Parsed line 2070000\n",
      "Parsed line 2080000\n",
      "Parsed line 2090000\n",
      "Parsed line 2100000\n",
      "Parsed line 2110000\n",
      "Parsed line 2120000\n",
      "Parsed line 2130000\n",
      "Parsed line 2140000\n",
      "Parsed line 2150000\n",
      "Parsed line 2160000\n",
      "Parsed line 2170000\n",
      "Parsed line 2180000\n",
      "Parsed line 2190000\n",
      "Parsed line 2200000\n",
      "Parsed line 2210000\n",
      "Parsed line 2220000\n",
      "Parsed line 2230000\n",
      "Parsed line 2240000\n",
      "Parsed line 2250000\n",
      "Parsed line 2260000\n",
      "Parsed line 2270000\n",
      "Parsed line 2280000\n",
      "Parsed line 2290000\n",
      "Parsed line 2300000\n",
      "Parsed line 2310000\n",
      "Parsed line 2320000\n",
      "Parsed line 2330000\n",
      "Parsed line 2340000\n",
      "Parsed line 2350000\n",
      "Parsed line 2360000\n",
      "Parsed line 2370000\n",
      "Parsed line 2380000\n",
      "Parsed line 2390000\n",
      "Parsed line 2400000\n",
      "Parsed line 2410000\n",
      "Parsed line 2420000\n",
      "Parsed line 2430000\n",
      "Parsed line 2440000\n",
      "Parsed line 2450000\n",
      "Parsed line 2460000\n",
      "Parsed line 2470000\n",
      "Parsed line 2480000\n",
      "Parsed line 2490000\n",
      "Parsed line 2500000\n",
      "Parsed line 2510000\n",
      "Parsed line 2520000\n",
      "Parsed line 2530000\n",
      "Parsed line 2540000\n",
      "Parsed line 2550000\n",
      "Parsed line 2560000\n",
      "Parsed line 2570000\n",
      "Parsed line 2580000\n",
      "Parsed line 2590000\n",
      "Parsed line 2600000\n",
      "Parsed line 2610000\n",
      "Parsed line 2620000\n",
      "Parsed line 2630000\n",
      "Parsed line 2640000\n",
      "Parsed line 2650000\n",
      "Parsed line 2660000\n",
      "Parsed line 2670000\n",
      "Parsed line 2680000\n",
      "Parsed line 2690000\n",
      "Parsed line 2700000\n",
      "Parsed line 2710000\n",
      "Parsed line 2720000\n",
      "Parsed line 2730000\n",
      "Parsed line 2740000\n",
      "Parsed line 2750000\n",
      "Parsed line 2760000\n",
      "Parsed line 2770000\n",
      "Parsed line 2780000\n",
      "Parsed line 2790000\n",
      "Parsed line 2800000\n",
      "Parsed line 2810000\n",
      "Parsed line 2820000\n",
      "Parsed line 2830000\n",
      "Parsed line 2840000\n",
      "Parsed line 2850000\n",
      "Parsed line 2860000\n",
      "Parsed line 2870000\n",
      "Parsed line 2880000\n",
      "Parsed line 2890000\n",
      "Parsed line 2900000\n",
      "Parsed line 2910000\n",
      "Parsed line 2920000\n",
      "Parsed line 2930000\n",
      "Parsed line 2940000\n",
      "Parsed line 2950000\n",
      "Parsed line 2960000\n",
      "Parsed line 2970000\n",
      "Parsed line 2980000\n",
      "Parsed line 2990000\n",
      "Parsed line 3000000\n",
      "Parsed line 3010000\n",
      "Parsed line 3020000\n",
      "Parsed line 3030000\n",
      "Parsed line 3040000\n",
      "Parsed line 3050000\n",
      "Parsed line 3060000\n",
      "Parsed line 3070000\n",
      "Parsed line 3080000\n",
      "Parsed line 3090000\n",
      "Parsed line 3100000\n",
      "Parsed line 3110000\n",
      "Parsed line 3120000\n",
      "Parsed line 3130000\n",
      "Parsed line 3140000\n",
      "Parsed line 3150000\n",
      "Parsed line 3160000\n",
      "Parsed line 3170000\n",
      "Parsed line 3180000\n",
      "Parsed line 3190000\n",
      "Parsed line 3200000\n",
      "Parsed line 3210000\n",
      "Parsed line 3220000\n",
      "Parsed line 3230000\n",
      "Parsed line 3240000\n",
      "Parsed line 3250000\n",
      "Parsed line 3260000\n",
      "Parsed line 3270000\n",
      "Parsed line 3280000\n",
      "Parsed line 3290000\n",
      "Parsed line 3300000\n",
      "Parsed line 3310000\n",
      "Parsed line 3320000\n",
      "Parsed line 3330000\n",
      "Parsed line 3340000\n",
      "Parsed line 3350000\n",
      "Parsed line 3360000\n",
      "Parsed line 3370000\n",
      "Parsed line 3380000\n",
      "Parsed line 3390000\n",
      "Parsed line 3400000\n",
      "Parsed line 3410000\n",
      "Parsed line 3420000\n",
      "Parsed line 3430000\n",
      "Parsed line 3440000\n",
      "Parsed line 3450000\n",
      "Parsed line 3460000\n",
      "Parsed line 3470000\n",
      "Parsed line 3480000\n",
      "Parsed line 3490000\n",
      "Parsed line 3500000\n",
      "Parsed line 3510000\n",
      "Parsed line 3520000\n",
      "Parsed line 3530000\n",
      "Parsed line 3540000\n",
      "Parsed line 3550000\n",
      "Parsed line 3560000\n",
      "Parsed line 3570000\n",
      "Parsed line 3580000\n",
      "Parsed line 3590000\n",
      "Parsed line 3600000\n",
      "Parsed line 3610000\n",
      "Parsed line 3620000\n",
      "Parsed line 3630000\n",
      "Parsed line 3640000\n",
      "Parsed line 3650000\n",
      "Parsed line 3660000\n",
      "Parsed line 3670000\n",
      "Parsed line 3680000\n",
      "Parsed line 3690000\n",
      "Parsed line 3700000\n",
      "Parsed line 3710000\n",
      "Parsed line 3720000\n",
      "Parsed line 3730000\n",
      "Parsed line 3740000\n",
      "Parsed line 3750000\n",
      "Parsed line 3760000\n",
      "Parsed line 3770000\n",
      "Parsed line 3780000\n",
      "Parsed line 3790000\n",
      "Parsed line 3800000\n",
      "Parsed line 3810000\n",
      "Parsed line 3820000\n",
      "Parsed line 3830000\n",
      "Parsed line 3840000\n",
      "Parsed line 3850000\n",
      "Parsed line 3860000\n",
      "Parsed line 3870000\n",
      "Parsed line 3880000\n",
      "Parsed line 3890000\n",
      "Parsed line 3900000\n",
      "Parsed line 3910000\n",
      "Parsed line 3920000\n",
      "Parsed line 3930000\n",
      "Parsed line 3940000\n",
      "Parsed line 3950000\n",
      "Parsed line 3960000\n",
      "Parsed line 3970000\n",
      "Parsed line 3980000\n",
      "Parsed line 3990000\n",
      "Parsed line 4000000\n",
      "Parsed line 4010000\n",
      "Parsed line 4020000\n",
      "Parsed line 4030000\n",
      "Parsed line 4040000\n",
      "Parsed line 4050000\n",
      "Parsed line 4060000\n",
      "Parsed line 4070000\n",
      "Parsed line 4080000\n",
      "Parsed line 4090000\n",
      "Parsed line 4100000\n",
      "Parsed line 4110000\n",
      "Parsed line 4120000\n",
      "Parsed line 4130000\n",
      "Parsed line 4140000\n",
      "Parsed line 4150000\n",
      "Parsed line 4160000\n",
      "Parsed line 4170000\n",
      "Parsed line 4180000\n",
      "Parsed line 4190000\n",
      "Parsed line 4200000\n",
      "Parsed line 4210000\n",
      "Parsed line 4220000\n",
      "Parsed line 4230000\n",
      "Parsed line 4240000\n",
      "Parsed line 4250000\n",
      "Parsed line 4260000\n",
      "Parsed line 4270000\n",
      "Parsed line 4280000\n",
      "Parsed line 4290000\n",
      "Parsed line 4300000\n",
      "Parsed line 4310000\n",
      "Parsed line 4320000\n",
      "Parsed line 4330000\n",
      "Parsed line 4340000\n",
      "Parsed line 4350000\n",
      "Parsed line 4360000\n",
      "Parsed line 4370000\n",
      "Parsed line 4380000\n",
      "Parsed line 4390000\n",
      "Parsed line 4400000\n",
      "Parsed line 4410000\n",
      "Parsed line 4420000\n",
      "Parsed line 4430000\n",
      "Parsed line 4440000\n",
      "Parsed line 4450000\n",
      "Parsed line 4460000\n",
      "Parsed line 4470000\n",
      "Parsed line 4480000\n",
      "Parsed line 4490000\n",
      "Parsed line 4500000\n",
      "Parsed line 4510000\n",
      "Parsed line 4520000\n",
      "Parsed line 4530000\n",
      "Parsed line 4540000\n",
      "Parsed line 4550000\n",
      "Parsed line 4560000\n",
      "Parsed line 4570000\n",
      "Parsed line 4580000\n",
      "Parsed line 4590000\n",
      "Parsed line 4600000\n",
      "Parsed line 4610000\n",
      "Parsed line 4620000\n",
      "Parsed line 4630000\n",
      "Parsed line 4640000\n",
      "Parsed line 4650000\n",
      "Parsed line 4660000\n",
      "Parsed line 4670000\n",
      "Parsed line 4680000\n",
      "Parsed line 4690000\n",
      "Parsed line 4700000\n",
      "Parsed line 4710000\n",
      "Parsed line 4720000\n",
      "Parsed line 4730000\n",
      "Parsed line 4740000\n",
      "Parsed line 4750000\n",
      "Parsed line 4760000\n",
      "Parsed line 4770000\n",
      "Parsed line 4780000\n",
      "Parsed line 4790000\n",
      "Parsed line 4800000\n",
      "Parsed line 4810000\n",
      "Parsed line 4820000\n",
      "Parsed line 4830000\n",
      "Parsed line 4840000\n",
      "Parsed line 4850000\n",
      "Parsed line 4860000\n",
      "Parsed line 4870000\n",
      "Parsed line 4880000\n",
      "Parsed line 4890000\n",
      "Parsed line 4900000\n",
      "Parsed line 4910000\n",
      "Parsed line 4920000\n",
      "Parsed line 4930000\n",
      "Parsed line 4940000\n",
      "Parsed line 4950000\n",
      "Parsed line 4960000\n",
      "Parsed line 4970000\n",
      "Parsed line 4980000\n",
      "Parsed line 4990000\n",
      "Parsed line 5000000\n",
      "Parsed line 5010000\n",
      "Parsed line 5020000\n",
      "Parsed line 5030000\n",
      "Parsed line 5040000\n",
      "Parsed line 5050000\n",
      "Parsed line 5060000\n",
      "Parsed line 5070000\n",
      "Parsed line 5080000\n",
      "Parsed line 5090000\n",
      "Parsed line 5100000\n",
      "Parsed line 5110000\n",
      "Parsed line 5120000\n",
      "Parsed line 5130000\n",
      "Parsed line 5140000\n",
      "Parsed line 5150000\n",
      "Parsed line 5160000\n",
      "Parsed line 5170000\n",
      "Parsed line 5180000\n",
      "Parsed line 5190000\n",
      "Parsed line 5200000\n",
      "Parsed line 5210000\n",
      "Parsed line 5220000\n",
      "Parsed line 5230000\n",
      "Parsed line 5240000\n",
      "Parsed line 5250000\n",
      "Parsed line 5260000\n",
      "Parsed line 5270000\n",
      "Parsed line 5280000\n",
      "Parsed line 5290000\n",
      "Parsed line 5300000\n",
      "Parsed line 5310000\n",
      "Parsed line 5320000\n",
      "Parsed line 5330000\n",
      "Parsed line 5340000\n",
      "Parsed line 5350000\n",
      "Parsed line 5360000\n",
      "Parsed line 5370000\n",
      "Parsed line 5380000\n",
      "Parsed line 5390000\n",
      "Parsed line 5400000\n",
      "Parsed line 5410000\n",
      "Parsed line 5420000\n",
      "Parsed line 5430000\n",
      "Parsed line 5440000\n",
      "Parsed line 5450000\n",
      "Parsed line 5460000\n",
      "Parsed line 5470000\n",
      "Parsed line 5480000\n",
      "Parsed line 5490000\n",
      "Parsed line 5500000\n",
      "Parsed line 5510000\n",
      "Parsed line 5520000\n",
      "Parsed line 5530000\n",
      "Parsed line 5540000\n",
      "Parsed line 5550000\n",
      "Parsed line 5560000\n",
      "Parsed line 5570000\n",
      "Parsed line 5580000\n",
      "Parsed line 5590000\n",
      "Parsed line 5600000\n",
      "Parsed line 5610000\n",
      "Parsed line 5620000\n",
      "Parsed line 5630000\n",
      "Parsed line 5640000\n",
      "Parsed line 5650000\n",
      "Parsed line 5660000\n",
      "Parsed line 5670000\n",
      "Parsed line 5680000\n",
      "Parsed line 5690000\n",
      "Parsed line 5700000\n",
      "Parsed line 5710000\n",
      "Parsed line 5720000\n",
      "Parsed line 5730000\n",
      "Parsed line 5740000\n",
      "Parsed line 5750000\n",
      "Parsed line 5760000\n",
      "Parsed line 5770000\n",
      "Parsed line 5780000\n",
      "Parsed line 5790000\n",
      "Parsed line 5800000\n",
      "Parsed line 5810000\n",
      "Parsed line 5820000\n",
      "Parsed line 5830000\n",
      "Parsed line 5840000\n",
      "Parsed line 5850000\n",
      "Parsed line 5860000\n",
      "Parsed line 5870000\n",
      "Parsed line 5880000\n",
      "Parsed line 5890000\n",
      "Parsed line 5900000\n",
      "Parsed line 5910000\n",
      "Parsed line 5920000\n",
      "Parsed line 5930000\n",
      "Parsed line 5940000\n",
      "Parsed line 5950000\n",
      "Parsed line 5960000\n",
      "Parsed line 5970000\n",
      "Parsed line 5980000\n",
      "Parsed line 5990000\n",
      "Parsed line 6000000\n",
      "Parsed line 6010000\n",
      "Parsed line 6020000\n",
      "Parsed line 6030000\n",
      "Parsed line 6040000\n",
      "Parsed line 6050000\n",
      "Parsed line 6060000\n",
      "Parsed line 6070000\n",
      "Parsed line 6080000\n",
      "Parsed line 6090000\n",
      "Parsed line 6100000\n",
      "Parsed line 6110000\n",
      "Parsed line 6120000\n",
      "Parsed line 6130000\n",
      "Parsed line 6140000\n",
      "Parsed line 6150000\n",
      "Parsed line 6160000\n",
      "Parsed line 6170000\n",
      "Parsed line 6180000\n",
      "Parsed line 6190000\n",
      "Parsed line 6200000\n",
      "Parsed line 6210000\n",
      "Parsed line 6220000\n",
      "Parsed line 6230000\n",
      "Parsed line 6240000\n",
      "Parsed line 6250000\n",
      "Parsed line 6260000\n",
      "Parsed line 6270000\n",
      "Parsed line 6280000\n",
      "Parsed line 6290000\n",
      "Parsed line 6300000\n",
      "Parsed line 6310000\n",
      "Parsed line 6320000\n",
      "Parsed line 6330000\n",
      "Parsed line 6340000\n",
      "Parsed line 6350000\n",
      "Parsed line 6360000\n",
      "Parsed line 6370000\n",
      "Parsed line 6380000\n",
      "Parsed line 6390000\n",
      "Parsed line 6400000\n",
      "Parsed line 6410000\n",
      "Parsed line 6420000\n",
      "Parsed line 6430000\n",
      "Parsed line 6440000\n",
      "Parsed line 6450000\n",
      "Parsed line 6460000\n",
      "Parsed line 6470000\n",
      "Parsed line 6480000\n",
      "Parsed line 6490000\n",
      "Parsed line 6500000\n",
      "Parsed line 6510000\n",
      "Parsed line 6520000\n",
      "Parsed line 6530000\n",
      "Parsed line 6540000\n",
      "Parsed line 6550000\n",
      "Parsed line 6560000\n",
      "Parsed line 6570000\n",
      "Parsed line 6580000\n",
      "Parsed line 6590000\n",
      "Parsed line 6600000\n",
      "Parsed line 6610000\n",
      "Parsed line 6620000\n",
      "Parsed line 6630000\n",
      "Parsed line 6640000\n",
      "Parsed line 6650000\n",
      "Parsed line 6660000\n",
      "Parsed line 6670000\n",
      "Parsed line 6680000\n",
      "Parsed line 6690000\n",
      "Parsed line 6700000\n",
      "Parsed line 6710000\n",
      "Parsed line 6720000\n",
      "Parsed line 6730000\n",
      "Parsed line 6740000\n",
      "Parsed line 6750000\n",
      "Parsed line 6760000\n",
      "Parsed line 6770000\n",
      "Parsed line 6780000\n",
      "Parsed line 6790000\n",
      "Parsed line 6800000\n",
      "Parsed line 6810000\n",
      "Parsed line 6820000\n",
      "Parsed line 6830000\n",
      "Parsed line 6840000\n",
      "Parsed line 6850000\n",
      "Parsed line 6860000\n",
      "Parsed line 6870000\n",
      "Parsed line 6880000\n",
      "Parsed line 6890000\n",
      "Parsed line 6900000\n",
      "Parsed line 6910000\n",
      "Parsed line 6920000\n",
      "Parsed line 6930000\n",
      "Parsed line 6940000\n",
      "Parsed line 6950000\n",
      "Parsed line 6960000\n",
      "Parsed line 6970000\n",
      "Parsed line 6980000\n",
      "Parsed line 6990000\n",
      "Parsed line 7000000\n",
      "Parsed line 7010000\n",
      "Parsed line 7020000\n",
      "Parsed line 7030000\n",
      "Parsed line 7040000\n",
      "Parsed line 7050000\n",
      "Parsed line 7060000\n",
      "Parsed line 7070000\n",
      "Parsed line 7080000\n",
      "Parsed line 7090000\n",
      "Parsed line 7100000\n",
      "Parsed line 7110000\n",
      "Parsed line 7120000\n",
      "Parsed line 7130000\n",
      "Parsed line 7140000\n",
      "Parsed line 7150000\n",
      "Parsed line 7160000\n",
      "Parsed line 7170000\n",
      "Parsed line 7180000\n",
      "Parsed line 7190000\n",
      "Parsed line 7200000\n",
      "Parsed line 7210000\n",
      "Parsed line 7220000\n",
      "Parsed line 7230000\n",
      "Parsed line 7240000\n",
      "Parsed line 7250000\n",
      "Parsed line 7260000\n",
      "Parsed line 7270000\n",
      "Parsed line 7280000\n",
      "Parsed line 7290000\n",
      "Parsed line 7300000\n",
      "Parsed line 7310000\n",
      "Parsed line 7320000\n",
      "Parsed line 7330000\n",
      "Parsed line 7340000\n",
      "Parsed line 7350000\n",
      "Parsed line 7360000\n",
      "Parsed line 7370000\n",
      "Parsed line 7380000\n",
      "Parsed line 7390000\n",
      "Parsed line 7400000\n",
      "Parsed line 7410000\n",
      "Parsed line 7420000\n",
      "Parsed line 7430000\n",
      "Parsed line 7440000\n",
      "Parsed line 7450000\n",
      "Parsed line 7460000\n",
      "Parsed line 7470000\n",
      "Parsed line 7480000\n",
      "Parsed line 7490000\n",
      "Parsed line 7500000\n",
      "Parsed line 7510000\n",
      "Parsed line 7520000\n",
      "Parsed line 7530000\n",
      "Parsed line 7540000\n",
      "Parsed line 7550000\n",
      "Parsed line 7560000\n",
      "Parsed line 7570000\n",
      "Parsed line 7580000\n",
      "Parsed line 7590000\n",
      "Parsed line 7600000\n",
      "Parsed line 7610000\n",
      "Parsed line 7620000\n",
      "Parsed line 7630000\n",
      "Parsed line 7640000\n",
      "Parsed line 7650000\n",
      "Parsed line 7660000\n",
      "Parsed line 7670000\n",
      "Parsed line 7680000\n",
      "Parsed line 7690000\n",
      "Parsed line 7700000\n",
      "Parsed line 7710000\n",
      "Parsed line 7720000\n",
      "Parsed line 7730000\n",
      "Parsed line 7740000\n",
      "Parsed line 7750000\n",
      "Parsed line 7760000\n",
      "Parsed line 7770000\n",
      "Parsed line 7780000\n",
      "Parsed line 7790000\n",
      "Parsed line 7800000\n",
      "Parsed line 7810000\n",
      "Parsed line 7820000\n",
      "Parsed line 7830000\n",
      "Parsed line 7840000\n",
      "Parsed line 7850000\n",
      "Parsed line 7860000\n",
      "Parsed line 7870000\n",
      "Parsed line 7880000\n",
      "Parsed line 7890000\n",
      "Parsed line 7900000\n",
      "Parsed line 7910000\n",
      "Parsed line 7920000\n",
      "Parsed line 7930000\n",
      "Parsed line 7940000\n",
      "Parsed line 7950000\n",
      "Parsed line 7960000\n",
      "Parsed line 7970000\n",
      "Parsed line 7980000\n",
      "Parsed line 7990000\n",
      "Parsed line 8000000\n",
      "Parsed line 8010000\n",
      "Parsed line 8020000\n",
      "Parsed line 8030000\n",
      "Parsed line 8040000\n",
      "Parsed line 8050000\n",
      "Parsed line 8060000\n",
      "Parsed line 8070000\n",
      "Parsed line 8080000\n",
      "Parsed line 8090000\n",
      "Parsed line 8100000\n",
      "Parsed line 8110000\n",
      "Parsed line 8120000\n",
      "Parsed line 8130000\n",
      "Parsed line 8140000\n",
      "Parsed line 8150000\n",
      "Parsed line 8160000\n",
      "Parsed line 8170000\n",
      "Parsed line 8180000\n",
      "Parsed line 8190000\n",
      "Parsed line 8200000\n",
      "Parsed line 8210000\n",
      "Parsed line 8220000\n",
      "Parsed line 8230000\n",
      "Parsed line 8240000\n",
      "Parsed line 8250000\n",
      "Parsed line 8260000\n",
      "Parsed line 8270000\n",
      "Parsed line 8280000\n",
      "Parsed line 8290000\n",
      "Parsed line 8300000\n",
      "Parsed line 8310000\n",
      "Parsed line 8320000\n",
      "Parsed line 8330000\n",
      "Parsed line 8340000\n",
      "Parsed line 8350000\n",
      "Parsed line 8360000\n",
      "Parsed line 8370000\n",
      "Parsed line 8380000\n",
      "Parsed line 8390000\n",
      "Parsed line 8400000\n",
      "Parsed line 8410000\n",
      "Parsed line 8420000\n",
      "Parsed line 8430000\n",
      "Parsed line 8440000\n",
      "Parsed line 8450000\n",
      "Parsed line 8460000\n",
      "Parsed line 8470000\n",
      "Parsed line 8480000\n",
      "Parsed line 8490000\n",
      "Parsed line 8500000\n",
      "Parsed line 8510000\n",
      "Parsed line 8520000\n",
      "Parsed line 8530000\n",
      "Parsed line 8540000\n",
      "Parsed line 8550000\n",
      "Parsed line 8560000\n",
      "Parsed line 8570000\n",
      "Parsed line 8580000\n",
      "Parsed line 8590000\n",
      "Parsed line 8600000\n",
      "Parsed line 8610000\n",
      "Parsed line 8620000\n",
      "Parsed line 8630000\n",
      "Parsed line 8640000\n",
      "Parsed line 8650000\n",
      "Parsed line 8660000\n",
      "Parsed line 8670000\n",
      "Parsed line 8680000\n",
      "Parsed line 8690000\n",
      "Parsed line 8700000\n",
      "Parsed line 8710000\n",
      "Parsed line 8720000\n",
      "Parsed line 8730000\n",
      "Parsed line 8740000\n",
      "Parsed line 8750000\n",
      "Parsed line 8760000\n",
      "Parsed line 8770000\n",
      "Parsed line 8780000\n",
      "Parsed line 8790000\n",
      "Parsed line 8800000\n",
      "Parsed line 8810000\n",
      "Parsed line 8820000\n",
      "Parsed line 8830000\n",
      "Parsed line 8840000\n",
      "Parsed line 8850000\n",
      "Parsed line 8860000\n",
      "Parsed line 8870000\n",
      "Parsed line 8880000\n",
      "Parsed line 8890000\n",
      "Parsed line 8900000\n",
      "Parsed line 8910000\n",
      "Parsed line 8920000\n",
      "Parsed line 8930000\n",
      "Parsed line 8940000\n",
      "Parsed line 8950000\n",
      "Parsed line 8960000\n",
      "Parsed line 8970000\n",
      "Parsed line 8980000\n",
      "Parsed line 8990000\n",
      "Parsed line 9000000\n",
      "Parsed line 9010000\n",
      "Parsed line 9020000\n",
      "Parsed line 9030000\n",
      "Parsed line 9040000\n",
      "Parsed line 9050000\n",
      "Parsed line 9060000\n",
      "Parsed line 9070000\n",
      "Parsed line 9080000\n",
      "Parsed line 9090000\n",
      "Parsed line 9100000\n",
      "Parsed line 9110000\n",
      "Parsed line 9120000\n",
      "Parsed line 9130000\n",
      "Parsed line 9140000\n",
      "Parsed line 9150000\n",
      "Parsed line 9160000\n",
      "Parsed line 9170000\n",
      "Parsed line 9180000\n",
      "Parsed line 9190000\n",
      "Parsed line 9200000\n",
      "Parsed line 9210000\n",
      "Parsed line 9220000\n",
      "Parsed line 9230000\n",
      "Parsed line 9240000\n",
      "Parsed line 9250000\n",
      "Parsed line 9260000\n",
      "Parsed line 9270000\n",
      "Parsed line 9280000\n",
      "Parsed line 9290000\n",
      "Parsed line 9300000\n",
      "Parsed line 9310000\n",
      "Parsed line 9320000\n",
      "Parsed line 9330000\n",
      "Parsed line 9340000\n",
      "Parsed line 9350000\n",
      "Parsed line 9360000\n",
      "Parsed line 9370000\n",
      "Parsed line 9380000\n",
      "Parsed line 9390000\n",
      "Parsed line 9400000\n",
      "Parsed line 9410000\n",
      "Parsed line 9420000\n",
      "Parsed line 9430000\n",
      "Parsed line 9440000\n",
      "Parsed line 9450000\n",
      "Parsed line 9460000\n",
      "Found 4 sequences in FASTA file\n"
     ]
    }
   ],
   "source": [
    "seq_dict=loadFasta(fa_file)"
   ]
  },
  {
   "cell_type": "code",
   "execution_count": 15,
   "metadata": {},
   "outputs": [
    {
     "data": {
      "text/plain": [
       "4"
      ]
     },
     "execution_count": 15,
     "metadata": {},
     "output_type": "execute_result"
    }
   ],
   "source": [
    "len(seq_dict)"
   ]
  },
  {
   "cell_type": "code",
   "execution_count": 16,
   "metadata": {},
   "outputs": [
    {
     "data": {
      "text/plain": [
       "dict_keys(['chr6', 'chr11', 'chr15', 'chr16'])"
      ]
     },
     "execution_count": 16,
     "metadata": {},
     "output_type": "execute_result"
    }
   ],
   "source": [
    "seq_dict.keys()"
   ]
  },
  {
   "cell_type": "markdown",
   "metadata": {},
   "source": [
    "Now we can use the gene information that we previously loaded to find genes within a chromosome.  \n",
    "\n",
    "Let's start with a gene Cntn4, which has has been assigned the identifer of uc009dcr.2 by the genome browser gurus at UCSC:"
   ]
  },
  {
   "cell_type": "code",
   "execution_count": 17,
   "metadata": {},
   "outputs": [],
   "source": [
    "cntn4=\"uc009dcr.2\""
   ]
  },
  {
   "cell_type": "markdown",
   "metadata": {},
   "source": [
    "Now we can find out the chromosomal location of Cntn4 using our gene_info dictionary to get all the relevant data we collected:\n"
   ]
  },
  {
   "cell_type": "code",
   "execution_count": 18,
   "metadata": {},
   "outputs": [
    {
     "data": {
      "text/plain": [
       "{'chr': 'chr6', 'start': 105627738, 'end': 106624264, 'strand': '+'}"
      ]
     },
     "execution_count": 18,
     "metadata": {},
     "output_type": "execute_result"
    }
   ],
   "source": [
    "gene_info[cntn4]"
   ]
  },
  {
   "cell_type": "markdown",
   "metadata": {},
   "source": [
    "To get the sequence for Cntn4, we need to first figure out what chromosome it is on:"
   ]
  },
  {
   "cell_type": "code",
   "execution_count": 19,
   "metadata": {},
   "outputs": [
    {
     "data": {
      "text/plain": [
       "'chr6'"
      ]
     },
     "execution_count": 19,
     "metadata": {},
     "output_type": "execute_result"
    }
   ],
   "source": [
    "gene_info[cntn4]['chr']"
   ]
  },
  {
   "cell_type": "markdown",
   "metadata": {},
   "source": [
    "Individual chromosomes contain MANY base pairs, making it hard to access them directly.  We can use Python's built in string commands to determine how long the string representing chromosome 6 is:"
   ]
  },
  {
   "cell_type": "code",
   "execution_count": 20,
   "metadata": {},
   "outputs": [
    {
     "data": {
      "text/plain": [
       "149517037"
      ]
     },
     "execution_count": 20,
     "metadata": {},
     "output_type": "execute_result"
    }
   ],
   "source": [
    "len(seq_dict['chr6'])"
   ]
  },
  {
   "cell_type": "markdown",
   "metadata": {},
   "source": [
    "Using the len() function, how long is chromosome 6? Enter only the number. Do not include commas or other symbols.  \n",
    "How long is chromosome 16?"
   ]
  },
  {
   "cell_type": "code",
   "execution_count": 21,
   "metadata": {},
   "outputs": [
    {
     "data": {
      "text/plain": [
       "98319150"
      ]
     },
     "execution_count": 21,
     "metadata": {},
     "output_type": "execute_result"
    }
   ],
   "source": [
    "len(seq_dict['chr16'])"
   ]
  },
  {
   "cell_type": "markdown",
   "metadata": {},
   "source": [
    "## Getting Genetic Information\n",
    "\n",
    "We can peek into the entire chromosomal sequence where we know Cntn4 to reside:"
   ]
  },
  {
   "cell_type": "code",
   "execution_count": 22,
   "metadata": {},
   "outputs": [],
   "source": [
    "hchr=gene_info[cntn4]['chr']\n",
    "hst=gene_info[cntn4]['start']\n",
    "hen=gene_info[cntn4]['end']"
   ]
  },
  {
   "cell_type": "markdown",
   "metadata": {},
   "source": [
    "Now we can use this information to pull out the sequence of interest."
   ]
  },
  {
   "cell_type": "code",
   "execution_count": 23,
   "metadata": {},
   "outputs": [
    {
     "data": {
      "text/plain": [
       "996526"
      ]
     },
     "execution_count": 23,
     "metadata": {},
     "output_type": "execute_result"
    }
   ],
   "source": [
    "cntn4_seq=seq_dict[hchr][hst:hen]\n",
    "\n",
    "#cntn4_seq\n",
    "\n",
    "len(cntn4_seq)"
   ]
  },
  {
   "cell_type": "markdown",
   "metadata": {},
   "source": [
    "### Getting Information about Genes\n",
    "\n",
    "We can now query the genomic information for various genes of interest and determine information about them.\n",
    "\n",
    "The gene Matn2 has the UCSC identifier of \"uc007vll.1\". Using this information, repeat the steps given previously to extract the following information:\n",
    "\n",
    "On what chromosome is Matn2 located?"
   ]
  },
  {
   "cell_type": "code",
   "execution_count": 24,
   "metadata": {},
   "outputs": [
    {
     "data": {
      "text/plain": [
       "{'chr': 'chr15', 'start': 34236435, 'end': 34277600, 'strand': '+'}"
      ]
     },
     "execution_count": 24,
     "metadata": {},
     "output_type": "execute_result"
    }
   ],
   "source": [
    "matn2 = \"uc007vll.1\"\n",
    "gene_info[matn2]"
   ]
  },
  {
   "cell_type": "markdown",
   "metadata": {},
   "source": [
    "Now assign the Matn2 sequence to the variable matn2_seq similar to what was done with Cntn4. Now we can study this gene.\n",
    "\n",
    "What is the length of the Matn2 gene in base pairs?"
   ]
  },
  {
   "cell_type": "code",
   "execution_count": 25,
   "metadata": {},
   "outputs": [
    {
     "data": {
      "text/plain": [
       "41165"
      ]
     },
     "execution_count": 25,
     "metadata": {},
     "output_type": "execute_result"
    }
   ],
   "source": [
    "hchr=gene_info[matn2]['chr']\n",
    "hst=gene_info[matn2]['start']\n",
    "hen=gene_info[matn2]['end']\n",
    "\n",
    "matn2_seq=seq_dict[hchr][hst:hen]\n",
    "\n",
    "len(matn2_seq)"
   ]
  },
  {
   "cell_type": "markdown",
   "metadata": {},
   "source": [
    "## Reading the Genome\n",
    "\n",
    "Now that we have the raw sequence data, we can \"peek\" at the genes themselves to see what they look like.  \n",
    "Since each sequence is just as string of characters, we can find specific parts of that gene.  "
   ]
  },
  {
   "cell_type": "code",
   "execution_count": 26,
   "metadata": {},
   "outputs": [
    {
     "data": {
      "text/plain": [
       "'GAGGGAGAGGAACGCGCGGCAGCCACAGAGCACAAGGTTCATAACCAGGATTGGTCGCAAGTAGGGAGCTTTTGCCACTCCGCCGGGACCTTCGGACGTTGGCGGTGGAGCAAGCCCAGTTCTCCTAGGCGCTGTGCTTGGGTAAGTCCAGCCCGACTCTGGAGCGCACTGTCCCAGGCACCCTGGTCTGTGGCT'"
      ]
     },
     "execution_count": 26,
     "metadata": {},
     "output_type": "execute_result"
    }
   ],
   "source": [
    "# cntn4_seq\n",
    "cntn4_seq[5:200]"
   ]
  },
  {
   "cell_type": "markdown",
   "metadata": {},
   "source": [
    "Can you figure out what the gene does yet?\n",
    "\n",
    "Probably not, but we can apply our knowledge of biology to better understand what this gene does, starting with the sequence of the protein it encodes. First, we can figure out exactly which part of the gene encodes a protein and what the protein looks like. DNA sequences encode proteins using a three-letter alphabet such that each of the 20 amino acids that comprise protein sequences is represented by a distinct set of 3-letter nucleic acid combinations.  \n",
    "\n",
    "Translation of the protein occurs at the start codon, represented by the three base pairs ATG.  We can identify where translation begins in the Cntn4 gene sequence using the index command, built into the Python string library:"
   ]
  },
  {
   "cell_type": "code",
   "execution_count": 27,
   "metadata": {},
   "outputs": [
    {
     "data": {
      "text/plain": [
       "214"
      ]
     },
     "execution_count": 27,
     "metadata": {},
     "output_type": "execute_result"
    }
   ],
   "source": [
    "cntn4_seq.index('ATG')"
   ]
  },
  {
   "cell_type": "markdown",
   "metadata": {},
   "source": [
    "### Translating the Genome\n",
    "\n",
    "Using the Matn2 identifier and the Matn2 sequence defined previously, use the commands you have learned to view the first part of the Matn2 sequence.\n",
    "\n",
    "What are the first ten nucleic acids (nucleotides) in the Matn2 gene? Enter the sequence as capital letters, with no spaces or punctuation. What is the index of the translation initation codon (ATG) in the Matn2 gene?"
   ]
  },
  {
   "cell_type": "code",
   "execution_count": 28,
   "metadata": {},
   "outputs": [
    {
     "data": {
      "text/plain": [
       "'TTTCAGGGAG'"
      ]
     },
     "execution_count": 28,
     "metadata": {},
     "output_type": "execute_result"
    }
   ],
   "source": [
    "matn2_seq[:10]"
   ]
  },
  {
   "cell_type": "code",
   "execution_count": 29,
   "metadata": {},
   "outputs": [
    {
     "data": {
      "text/plain": [
       "48"
      ]
     },
     "execution_count": 29,
     "metadata": {},
     "output_type": "execute_result"
    }
   ],
   "source": [
    "matn2_seq.index('ATG')"
   ]
  },
  {
   "cell_type": "markdown",
   "metadata": {},
   "source": [
    "## From genetics to genomics\n",
    "\n",
    "The information we collected so far can easily be done on a website. There are many organism-specific sites of gene information, such as the [Mouse Genome Informatics](http://www.informatics.jax.org/) website or across many species using the [UCSC genome browser](http://genome.ucsc.edu/).\n",
    "\n",
    "High throughput technologies such as [RNA-Seq](http://en.wikipedia.org/wiki/RNA-Seq) require more systematic approaches to analyzing gene information.  For example, the output of a high throughput sequencer is a series of short DNA sequence reads, usually in a version of the FASTA format.  To quantify the amount of DNA mapping to each individual gene, algorithms must first **align** the sequences to the genome.  But aligning alone is not enough, as longer genes are more likely to have reads than shorter genes.  As a result, the length of genes is an important thing to know.   \n",
    "\n",
    "Using the gene_info dictionary, we can find out the length of every gene on the four chromosomes we collected. \n",
    "\n",
    "FIrst, we import the NumPy module to include more complicated mathematic calculations. Now we can find the start and end of each gene, and store the difference:"
   ]
  },
  {
   "cell_type": "code",
   "execution_count": 30,
   "metadata": {},
   "outputs": [],
   "source": [
    "import numpy as np"
   ]
  },
  {
   "cell_type": "code",
   "execution_count": 31,
   "metadata": {},
   "outputs": [],
   "source": [
    "gene_lengths={}\n",
    "\n",
    "for g in gene_info.keys():\n",
    "    st=gene_info[g]['start']\n",
    "    en=gene_info[g]['end']\n",
    "    gene_lengths[g]=np.absolute(en-st)"
   ]
  },
  {
   "cell_type": "markdown",
   "metadata": {},
   "source": [
    "Now we can use pyplot's basic plotting tools in matplotlib to create a histogram.  \n",
    "You can alter the color to green by adding an additional color argument."
   ]
  },
  {
   "cell_type": "code",
   "execution_count": 32,
   "metadata": {},
   "outputs": [
    {
     "data": {
      "image/png": "[encoded data removed]",
      "text/plain": [
       "<Figure size 640x480 with 1 Axes>"
      ]
     },
     "metadata": {},
     "output_type": "display_data"
    }
   ],
   "source": [
    "import matplotlib.pyplot as plt\n",
    "\n",
    "plt.hist(gene_lengths.values(), bins=50, facecolor='green');"
   ]
  },
  {
   "cell_type": "markdown",
   "metadata": {},
   "source": [
    "This histogram remains largely unsatisfying, mainly because there are so many shorter genes and just a few really long genes, leaving many bins of the histogram empty.  \n",
    "To fix, this, we can move to a logarithmic scale.  This is easily done by specifying the scale of the y-axis:"
   ]
  },
  {
   "cell_type": "code",
   "execution_count": 33,
   "metadata": {},
   "outputs": [
    {
     "data": {
      "image/png": "[encoded data removed]",
      "text/plain": [
       "<Figure size 640x480 with 1 Axes>"
      ]
     },
     "metadata": {},
     "output_type": "display_data"
    }
   ],
   "source": [
    "plt.hist(gene_lengths.values(), bins=50, log=True, facecolor='green');"
   ]
  },
  {
   "cell_type": "markdown",
   "metadata": {},
   "source": [
    "Using the max function, what is the length of the longest gene in the gene_lengths dictionary?  \n",
    "\n",
    "Gene lengths can vary based on the size of the encoding protein, but also with the distribution across the genome. Genes are broken down into exons, which encode the final protein, and separated by introns, which are spliced out before the transcribed RNA is translated. The more introns, the longer a gene is.  \n",
    "\n",
    "Since Python can do basic math, what is the difference between the length of Cntn4 and the longest gene?"
   ]
  },
  {
   "cell_type": "code",
   "execution_count": 34,
   "metadata": {},
   "outputs": [
    {
     "data": {
      "text/plain": [
       "3171331"
      ]
     },
     "execution_count": 34,
     "metadata": {},
     "output_type": "execute_result"
    }
   ],
   "source": [
    "max(gene_lengths.values())"
   ]
  },
  {
   "cell_type": "code",
   "execution_count": 35,
   "metadata": {},
   "outputs": [
    {
     "name": "stdout",
     "output_type": "stream",
     "text": [
      "Difference between the length of Cntn4 and the longest gene = 2174805\n"
     ]
    }
   ],
   "source": [
    "print(\"Difference between the length of Cntn4 and the longest gene =\", max(gene_lengths.values()) - len(cntn4_seq))"
   ]
  },
  {
   "cell_type": "markdown",
   "metadata": {},
   "source": [
    "## Exploring the Non-coding Regions\n",
    "\n",
    "### Outside the coding region\n",
    "\n",
    "With the developments in whole-genome sequencing, we can not only study the coding regions of the DNA - those that encode for proteins - but also the millions of basepairs that DO NOT encode for proteins.\n",
    "\n",
    "Why would these regions be of interest? Because they contain regulatory regions that help turn genes on and off.  These regions, often conserved across evolution, are tuned to enable the binding of specific proteins that can kick-start the process of transcription.  \n",
    "\n",
    "To get a sense of just how much DNA is devoted to these regulatory regions, we can use the gene_info data structure to count how many base pairs are in genes compared to those that are not.  \n",
    "\n",
    "We first initialize a new data structure, a set.  A set is able to store items, like a list, but only keeps those that are unique. This is helpful because it removes duplicates automatically. \n",
    "\n",
    "This is important because there are regions in the genome where genes overlap - some genes are in the non-translated regions of other genes, and some genes overlap on opposite strands.  Here is an image of that on the genome browser:\n",
    "\n",
    "![overlapping transcripts of genes Ssxb1, Ssxb2 and Ssxb9](https://courses.edx.org/assets/courseware/v1/82304d9c33cde519742fd0a569ee01b7/asset-v1:MITx+7.QBWx+2T2022+type@asset+block/mouse_browser_gene_example_simple.png)\n",
    "\n",
    "Overlapping transcripts of genes named Ssxb1, Ssxb2, and Ssxb9 are shown as dark and light blue lines, with arrow heads indicating the direction of transcription.\n",
    "\n",
    "Therefore, to keep track of truly non-coding regions of the genome, we need to make sure we are not double-counting. To do this we are going to track the indices, or positions, of chromosome 6, such that we do not add in a position to our list of coding regions if it has already been accounted for in another gene.  We can do this several ways. First, let's look at the simple but **memory intensive** way, using a set."
   ]
  },
  {
   "cell_type": "code",
   "execution_count": 36,
   "metadata": {},
   "outputs": [
    {
     "data": {
      "text/plain": [
       "67695635"
      ]
     },
     "execution_count": 36,
     "metadata": {},
     "output_type": "execute_result"
    }
   ],
   "source": [
    "# creates an empty set object. Sets are collections of unordered unique values\n",
    "in_gene=set()\n",
    "\n",
    "# looping through all the genes in chromosome 6, we find every sequence index assigned to the gene\n",
    "for gene in gene_info.keys():\n",
    "    if gene_info[gene]['chr']=='chr6':\n",
    "        gene_inds=range(gene_info[gene]['start'],gene_info[gene]['end'])\n",
    "\n",
    "# now we update the set with the indices of the current gene\n",
    "# because it is a set, even if the indices were already entered as a different gene, we will not get duplicate entries\n",
    "        in_gene.update(gene_inds)\n",
    "\n",
    "len(in_gene)"
   ]
  },
  {
   "cell_type": "markdown",
   "metadata": {},
   "source": [
    "This might take a while to compute (or cause a memory error). We can also do this less directly using a boolean array."
   ]
  },
  {
   "cell_type": "code",
   "execution_count": 45,
   "metadata": {},
   "outputs": [
    {
     "name": "stdout",
     "output_type": "stream",
     "text": [
      "116554693\n"
     ]
    },
    {
     "name": "stderr",
     "output_type": "stream",
     "text": [
      "c:\\Users\\Sébastien\\Documents\\data_science\\biostatistics\\quantitative_biology_workshop_mit\\w6_genomics_python\\.env\\lib\\site-packages\\ipykernel_launcher.py:5: DeprecationWarning: `np.bool` is a deprecated alias for the builtin `bool`. To silence this warning, use `bool` by itself. Doing this will not modify any behavior and is safe. If you specifically wanted the numpy scalar type, use `np.bool_` here.\n",
      "Deprecated in NumPy 1.20; for more details and guidance: https://numpy.org/devdocs/release/1.20.0-notes.html#deprecations\n",
      "  \"\"\"\n"
     ]
    }
   ],
   "source": [
    "# Create a boolean Numpy array the same length as the chromosome\n",
    "# Initially, every entry will be False\n",
    "chr6_length = len(seq_dict['chr6'])\n",
    "\n",
    "in_gene_numpy = np.zeros(chr6_length, dtype=np.bool)\n",
    "\n",
    "# Loop through the genes, switching entries to True if they are found\n",
    "for gene in gene_info.keys():\n",
    "    start_ind = gene_info[gene]['start']\n",
    "    end_ind = gene_info[gene]['end']\n",
    "    in_gene_numpy[start_ind:end_ind] = True\n",
    "\n",
    "# Get the answer by summing the Numpy array\n",
    "# True values are treated as 1, False as 0, so the sum of the array will be\n",
    "# the # number of index sites that are coding sites (the length of coding sequence in chr6)\n",
    "num_in_gene = in_gene_numpy.sum()\n",
    "\n",
    "print(num_in_gene)"
   ]
  },
  {
   "cell_type": "markdown",
   "metadata": {},
   "source": [
    "_It looks like the duplicated coding base pairs haven't been removed using this approach..._"
   ]
  },
  {
   "cell_type": "markdown",
   "metadata": {},
   "source": [
    "### Size of Chromosome 6\n",
    "\n",
    "Now that we have used Python to count coding DNA we can evaluate just how much of chromosome 6 is devoted to encoding genes.\n",
    "\n",
    "What is the total size of chromosome 6 in base pairs?"
   ]
  },
  {
   "cell_type": "code",
   "execution_count": 41,
   "metadata": {},
   "outputs": [
    {
     "data": {
      "text/plain": [
       "149517037"
      ]
     },
     "execution_count": 41,
     "metadata": {},
     "output_type": "execute_result"
    }
   ],
   "source": [
    "len(seq_dict['chr6'])"
   ]
  },
  {
   "cell_type": "markdown",
   "metadata": {},
   "source": [
    "How many base pairs of coding DNA are on chromosome 6?"
   ]
  },
  {
   "cell_type": "code",
   "execution_count": 43,
   "metadata": {},
   "outputs": [
    {
     "data": {
      "text/plain": [
       "67695635"
      ]
     },
     "execution_count": 43,
     "metadata": {},
     "output_type": "execute_result"
    }
   ],
   "source": [
    "len(in_gene)"
   ]
  },
  {
   "cell_type": "markdown",
   "metadata": {},
   "source": [
    "How many non-coding base pairs are on chromosome 6?"
   ]
  },
  {
   "cell_type": "code",
   "execution_count": 44,
   "metadata": {},
   "outputs": [
    {
     "name": "stdout",
     "output_type": "stream",
     "text": [
      "Number of non-coding base pairs =  81821402\n"
     ]
    }
   ],
   "source": [
    "print(\"Number of non-coding base pairs = \", len(seq_dict['chr6']) - len(in_gene))"
   ]
  },
  {
   "cell_type": "markdown",
   "metadata": {},
   "source": [
    "What fraction of chromosome 6 is made up of non-coding DNA? "
   ]
  },
  {
   "cell_type": "code",
   "execution_count": 47,
   "metadata": {},
   "outputs": [
    {
     "data": {
      "text/plain": [
       "0.5472379846585644"
      ]
     },
     "execution_count": 47,
     "metadata": {},
     "output_type": "execute_result"
    }
   ],
   "source": [
    "1 - len(in_gene) / len(seq_dict['chr6'])"
   ]
  },
  {
   "cell_type": "markdown",
   "metadata": {},
   "source": [
    "### Gene Regulatory Regions\n",
    "\n",
    "As you can see, a large portion of chromosome 6 is not used to encode RNA molecules. However, many parts of the non-coding genome are still highly conserved across species, suggesting that they still can play a role in the cell.  The role of the non-coding genome is to regulate gene expression. Embedded in the non-coding regions of DNA are short signals or motifs that help proteins bind the DNA to begin the process of transcription. \n",
    "\n",
    "While there is a large body of research studying gene regulation and how genes are turned on and off, we can get a taste of this type of analysis by looking at a single motif \"TATA\" called the TATA binding motif.  \n",
    "\n",
    "This motif is implicated in transcription initiation when found nearby the transcription start site of genes.  Given that we now have the transcription start sites of all mouse genes and their neighboring sequences, we can use built-in python commands to determine how many have a TATA binding motif.\n",
    "\n",
    "### Motif Finding\n",
    "\n",
    "Specifically, we can use the count command to identify how many times a certain sequence occurs in a large sequence. In this case, we can use it to count the occurrence of the TATA motif:"
   ]
  },
  {
   "cell_type": "code",
   "execution_count": 48,
   "metadata": {},
   "outputs": [
    {
     "data": {
      "text/plain": [
       "734533"
      ]
     },
     "execution_count": 48,
     "metadata": {},
     "output_type": "execute_result"
    }
   ],
   "source": [
    "seq_dict['chr6'].upper().count('TATA')"
   ]
  },
  {
   "cell_type": "markdown",
   "metadata": {},
   "source": [
    "There are over 700000 occurrences of this motif on a single chromosome!  Remember how many genes there were?"
   ]
  },
  {
   "cell_type": "code",
   "execution_count": 50,
   "metadata": {},
   "outputs": [
    {
     "data": {
      "text/plain": [
       "2990"
      ]
     },
     "execution_count": 50,
     "metadata": {},
     "output_type": "execute_result"
    }
   ],
   "source": [
    "gene_counts['chr6']"
   ]
  },
  {
   "cell_type": "markdown",
   "metadata": {},
   "source": [
    "Less than 3000!   \n",
    "\n",
    "Clearly not every occurrence of TATA means that there is transcription initiation, other sequence motif play a role as well.  So we are going to search for the binding sites that are more relevant to each gene.  Luckily, we can find all the transcription start sites using a basic loop through our gene_info dictionary and a module-derived function called getTssOnChroms:"
   ]
  },
  {
   "cell_type": "code",
   "execution_count": 51,
   "metadata": {},
   "outputs": [],
   "source": [
    "chr6_starts=getTssOnChroms(gene_info,'chr6')"
   ]
  },
  {
   "cell_type": "markdown",
   "metadata": {},
   "source": [
    "Now the dictionary chr6_starts contains the starting point of all genes on chromosome 6. \n",
    "\n",
    "We can assume that TATA binding relevant to transcription is within a small window of the transcription start site.  Here we look for a window of 40 base pairs upstream.  Note that the definition of upstream varies based on whether the gene is found on the + or - strand of DNA:"
   ]
  },
  {
   "cell_type": "code",
   "execution_count": 52,
   "metadata": {},
   "outputs": [],
   "source": [
    "tata_dist={}\n",
    "\n",
    "for g in chr6_starts.keys():\n",
    "    e=chr6_starts[g]\n",
    "    strand=gene_info[g]['strand']\n",
    "    if strand=='+':\n",
    "        s=e-40\n",
    "    else:\n",
    "        s=e\n",
    "        e=s+40\n",
    "    if 'TATA' in seq_dict['chr6'][s:e].upper():\n",
    "        if strand=='+':\n",
    "            tata_dist[g]=seq_dict['chr6'][s:e].upper().rindex('TATA')\n",
    "        else:\n",
    "            tata_dist[g]=seq_dict['chr6'][s:e].upper().index('TATA')"
   ]
  },
  {
   "cell_type": "markdown",
   "metadata": {},
   "source": [
    "This loop stores the index of the TATA motif - either from the end of the promoter region or the beginning (depending on strand). Now we can use the tata_dist dictionary to identify genes that contain a TATA binding motif nearby and can therefore be regulated by the TATA binding protein.  \n",
    "Using the len function, determine the length of the tata_dist object. How many genes had a motif within 40 base pairs of the trancription start site?"
   ]
  },
  {
   "cell_type": "code",
   "execution_count": 53,
   "metadata": {},
   "outputs": [
    {
     "data": {
      "text/plain": [
       "193"
      ]
     },
     "execution_count": 53,
     "metadata": {},
     "output_type": "execute_result"
    }
   ],
   "source": [
    "len(tata_dist)"
   ]
  },
  {
   "cell_type": "markdown",
   "metadata": {},
   "source": [
    "Calculate the mean distance from the transcription start sites from tata_dist using the sum function and your answer from the previous problem. Enter your answer as a number with 4 significant figures."
   ]
  },
  {
   "cell_type": "code",
   "execution_count": 57,
   "metadata": {},
   "outputs": [
    {
     "data": {
      "text/plain": [
       "{'uc009avd.2': 32,\n",
       " 'uc009avl.1': 12,\n",
       " 'uc009avm.1': 12,\n",
       " 'uc009awd.2': 23,\n",
       " 'uc009awi.1': 23,\n",
       " 'uc009awo.1': 30,\n",
       " 'uc009axx.1': 18,\n",
       " 'uc009ays.1': 8,\n",
       " 'uc009azo.1': 32,\n",
       " 'uc009bak.1': 1,\n",
       " 'uc009bar.1': 25,\n",
       " 'uc009bcv.1': 9,\n",
       " 'uc009bex.1': 13,\n",
       " 'uc009bfc.1': 24,\n",
       " 'uc009bfn.1': 11,\n",
       " 'uc009bfo.1': 10,\n",
       " 'uc012ejm.1': 2,\n",
       " 'uc009bfy.1': 24,\n",
       " 'uc009bgg.1': 15,\n",
       " 'uc009bil.1': 34,\n",
       " 'uc012ejx.1': 6,\n",
       " 'uc012ejz.1': 2,\n",
       " 'uc009bku.2': 30,\n",
       " 'uc009bld.1': 29,\n",
       " 'uc009ble.1': 29,\n",
       " 'uc012ekg.1': 10,\n",
       " 'uc009bnf.2': 10,\n",
       " 'uc009bnn.1': 6,\n",
       " 'uc009vds.1': 28,\n",
       " 'uc009bno.1': 26,\n",
       " 'uc009bnr.2': 2,\n",
       " 'uc009bom.1': 32,\n",
       " 'uc012eks.1': 15,\n",
       " 'uc009bos.1': 9,\n",
       " 'uc009bot.2': 25,\n",
       " 'uc009bov.2': 24,\n",
       " 'uc009bow.2': 29,\n",
       " 'uc009box.2': 31,\n",
       " 'uc009vdt.1': 7,\n",
       " 'uc009boy.2': 9,\n",
       " 'uc009boz.2': 24,\n",
       " 'uc009bpw.2': 9,\n",
       " 'uc009bpx.1': 2,\n",
       " 'uc009bqh.1': 12,\n",
       " 'uc009bsc.1': 9,\n",
       " 'uc009bsh.1': 33,\n",
       " 'uc009bve.2': 6,\n",
       " 'uc012ell.1': 9,\n",
       " 'uc009bwb.2': 9,\n",
       " 'uc012elm.1': 8,\n",
       " 'uc012els.1': 35,\n",
       " 'uc009bwy.2': 32,\n",
       " 'uc009bxa.1': 32,\n",
       " 'uc009cbq.2': 25,\n",
       " 'uc009cbs.1': 20,\n",
       " 'uc009cbw.2': 36,\n",
       " 'uc012emn.1': 8,\n",
       " 'uc009cca.1': 8,\n",
       " 'uc009cce.1': 10,\n",
       " 'uc009ccv.1': 10,\n",
       " 'uc012ems.1': 7,\n",
       " 'uc009cea.1': 5,\n",
       " 'uc009cep.1': 25,\n",
       " 'uc009cgh.1': 1,\n",
       " 'uc009cgj.2': 22,\n",
       " 'uc009cgi.2': 22,\n",
       " 'uc009cgl.2': 22,\n",
       " 'uc009cgq.1': 5,\n",
       " 'uc009cip.1': 26,\n",
       " 'uc009ciq.1': 26,\n",
       " 'uc009cjc.1': 30,\n",
       " 'uc009cji.1': 26,\n",
       " 'uc009cjw.1': 11,\n",
       " 'uc009cjz.1': 10,\n",
       " 'uc009cka.1': 10,\n",
       " 'uc009ckb.1': 23,\n",
       " 'uc012eno.1': 0,\n",
       " 'uc009ckl.1': 14,\n",
       " 'uc009ckv.1': 24,\n",
       " 'uc009clp.2': 9,\n",
       " 'uc009cmb.1': 25,\n",
       " 'uc009cmc.1': 25,\n",
       " 'uc009cnz.1': 7,\n",
       " 'uc009cpv.2': 3,\n",
       " 'uc009cti.1': 11,\n",
       " 'uc009ctt.1': 35,\n",
       " 'uc009cww.1': 34,\n",
       " 'uc012epb.1': 18,\n",
       " 'uc009cyw.1': 24,\n",
       " 'uc009dae.1': 20,\n",
       " 'uc009dbd.2': 12,\n",
       " 'uc009dbe.2': 12,\n",
       " 'uc009dce.1': 21,\n",
       " 'uc009dch.1': 4,\n",
       " 'uc009ddg.1': 12,\n",
       " 'uc009ddh.2': 12,\n",
       " 'uc009ddw.1': 5,\n",
       " 'uc009dhl.1': 26,\n",
       " 'uc012erp.1': 34,\n",
       " 'uc009dms.2': 21,\n",
       " 'uc012erw.1': 1,\n",
       " 'uc009dnq.1': 14,\n",
       " 'uc009dox.1': 28,\n",
       " 'uc009doy.1': 28,\n",
       " 'uc009dpn.1': 6,\n",
       " 'uc009dqk.1': 25,\n",
       " 'uc009dql.1': 25,\n",
       " 'uc012esm.1': 12,\n",
       " 'uc009dtc.1': 34,\n",
       " 'uc012esu.1': 17,\n",
       " 'uc012esw.1': 35,\n",
       " 'uc009duz.2': 23,\n",
       " 'uc009dvf.2': 7,\n",
       " 'uc009dwg.1': 27,\n",
       " 'uc009dwk.1': 33,\n",
       " 'uc009dwm.1': 18,\n",
       " 'uc009dwx.1': 33,\n",
       " 'uc009dxu.1': 33,\n",
       " 'uc009dxw.1': 15,\n",
       " 'uc009dxy.1': 36,\n",
       " 'uc009dyt.1': 9,\n",
       " 'uc009dyv.1': 18,\n",
       " 'uc009dza.1': 25,\n",
       " 'uc009dze.1': 17,\n",
       " 'uc009dzs.1': 9,\n",
       " 'uc009eai.1': 9,\n",
       " 'uc009ece.1': 12,\n",
       " 'uc009ecj.1': 6,\n",
       " 'uc009eeh.2': 26,\n",
       " 'uc009eek.1': 12,\n",
       " 'uc009eew.2': 10,\n",
       " 'uc009efd.1': 29,\n",
       " 'uc009efi.1': 27,\n",
       " 'uc009efj.1': 27,\n",
       " 'uc009ege.1': 35,\n",
       " 'uc009egf.1': 21,\n",
       " 'uc012etr.1': 26,\n",
       " 'uc009egs.1': 35,\n",
       " 'uc009egy.1': 4,\n",
       " 'uc009eha.1': 26,\n",
       " 'uc009ehb.1': 26,\n",
       " 'uc009ehm.2': 26,\n",
       " 'uc009ehe.1': 4,\n",
       " 'uc009ehf.1': 4,\n",
       " 'uc009ehk.1': 16,\n",
       " 'uc009ehq.2': 16,\n",
       " 'uc009ehx.2': 11,\n",
       " 'uc009ehz.2': 26,\n",
       " 'uc012etx.1': 26,\n",
       " 'uc009eif.1': 16,\n",
       " 'uc009eig.1': 16,\n",
       " 'uc012etz.1': 26,\n",
       " 'uc009eio.1': 22,\n",
       " 'uc009eiu.1': 13,\n",
       " 'uc009eix.1': 34,\n",
       " 'uc009eiz.1': 34,\n",
       " 'uc012eud.1': 23,\n",
       " 'uc012eue.1': 23,\n",
       " 'uc012euf.1': 30,\n",
       " 'uc009ejm.1': 11,\n",
       " 'uc009ejp.1': 34,\n",
       " 'uc009ejq.1': 27,\n",
       " 'uc009ejw.1': 12,\n",
       " 'uc009eka.1': 10,\n",
       " 'uc012euh.1': 10,\n",
       " 'uc012euj.1': 35,\n",
       " 'uc009ekd.1': 27,\n",
       " 'uc012euq.1': 8,\n",
       " 'uc009ele.2': 24,\n",
       " 'uc012euv.1': 12,\n",
       " 'uc009elx.1': 26,\n",
       " 'uc009eml.1': 26,\n",
       " 'uc009emm.1': 23,\n",
       " 'uc009emn.1': 23,\n",
       " 'uc009emq.1': 15,\n",
       " 'uc009eno.1': 12,\n",
       " 'uc009enq.1': 34,\n",
       " 'uc009eog.1': 9,\n",
       " 'uc012evd.1': 9,\n",
       " 'uc009eoh.1': 9,\n",
       " 'uc009eop.2': 10,\n",
       " 'uc012evg.1': 10,\n",
       " 'uc012evh.1': 10,\n",
       " 'uc009eot.2': 27,\n",
       " 'uc012evi.1': 27,\n",
       " 'uc009eow.2': 32,\n",
       " 'uc009eox.2': 32,\n",
       " 'uc009epb.2': 13,\n",
       " 'uc009eqh.2': 13,\n",
       " 'uc009esr.1': 11,\n",
       " 'uc009esv.2': 12,\n",
       " 'uc009etb.1': 14,\n",
       " 'uc009etc.1': 14}"
      ]
     },
     "execution_count": 57,
     "metadata": {},
     "output_type": "execute_result"
    }
   ],
   "source": [
    "tata_dist"
   ]
  },
  {
   "cell_type": "code",
   "execution_count": 56,
   "metadata": {},
   "outputs": [
    {
     "data": {
      "text/plain": [
       "18.5440414507772"
      ]
     },
     "execution_count": 56,
     "metadata": {},
     "output_type": "execute_result"
    }
   ],
   "source": [
    "sum(tata_dist.values()) / len(tata_dist)"
   ]
  },
  {
   "cell_type": "markdown",
   "metadata": {},
   "source": [
    "As expected, the TATA binding motif usually falls between 12 and 25 basepairs upstream of the transcription start site (feel free to plot a histogram of these values). However, only a fraction of the genes posess a TATA binding motif nearby, meaning that the remainder of these genes are regulated by other means."
   ]
  },
  {
   "cell_type": "markdown",
   "metadata": {},
   "source": []
  }
 ],
 "metadata": {
  "kernelspec": {
   "display_name": "Python 3.7.9 ('.env': venv)",
   "language": "python",
   "name": "python3"
  },
  "language_info": {
   "codemirror_mode": {
    "name": "ipython",
    "version": 3
   },
   "file_extension": ".py",
   "mimetype": "text/x-python",
   "name": "python",
   "nbconvert_exporter": "python",
   "pygments_lexer": "ipython3",
   "version": "3.7.9"
  },
  "orig_nbformat": 4,
  "vscode": {
   "interpreter": {
    "hash": "c01d6001d3816177ab7574209f32366b6814e4c2622de16d4789f3834030e403"
   }
  }
 },
 "nbformat": 4,
 "nbformat_minor": 2
}
