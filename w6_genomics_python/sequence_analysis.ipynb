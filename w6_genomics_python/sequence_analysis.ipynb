{
 "cells": [
  {
   "cell_type": "markdown",
   "metadata": {},
   "source": [
    "# File input/output\n",
    "\n",
    "In this section and the next, you will create a number of data structures:\n",
    "\n",
    "| Object Name | Object Description |\n",
    "|---|---|\n",
    "| gene_file | string of file name of mouse genome selection |\n",
    "| fopen | list where each element is a line of gene_file |\n",
    "| gene_info | dict of the contents of gene_file, where keys are gene names and values are everything associated with them |\n",
    "| chroms | list of all the chromosomes included in gene_info |\n",
    "| gene_counts | dict with chromosome name as key and number of genes contained as value |\n",
    "| fa_file | string of file name of FASTA formatted select mouse gene sequences (selChroms.mm9.fa.zip) |\n",
    "| seq_dict | dict of the fa_file content (short dict, lots of sequence) |\n",
    "| cntn4 | string of Cntn4 gene identifier, uc009dcr.2 |\n",
    "| hchr | string of chromosome number of Cntn4 gene location |\n",
    "| hst | string of location of start site of Cntn4 gene |\n",
    "| hen | string of location of end site of Cntn4 gene |\n",
    "| cntn4_seq | string of sequence of Cntn4 |\n",
    "| gene_lengths | dict of gene names as keys, and gene lengths as values |\n",
    "| in_gene | set of gene names as keys, and the range of the indices of chromosome location. |\n",
    "| chr6_starts | dict of chromosome 6 gene names as keys, and their start sites as values. |\n",
    "| tata_dist | dict of gene names as keys, and the index, if any, of the nearest TATA to its start. |\n"
   ]
  },
  {
   "cell_type": "markdown",
   "metadata": {},
   "source": [
    "## Importing course module functions\n",
    "\n",
    "Since you followed the instructions in [Downloading Necessary Files](https://courses.edx.org/courses/course-v1:MITx+7.QBWx+2T2022/jump_to_id/ec0617e829984077b9670f3fdbea25e4), your working directory now contains the downloaded Python module. Instead of importing the entire module, we will just grab the associated functions from it using this command. This makes it easier to call the commands later on:"
   ]
  },
  {
   "cell_type": "code",
   "execution_count": 1,
   "metadata": {},
   "outputs": [],
   "source": [
    "from qbwPythonModule import *"
   ]
  },
  {
   "cell_type": "markdown",
   "metadata": {},
   "source": [
    "## input/ouput: opening the data in Python\n",
    "\n",
    "You have downloaded a list of genes from part of the mouse genome. This is data from the [UCSC genome browser](http://genome.ucsc.edu/) that maintains genomic information across many organisms as they have been sequenced.\n",
    "\n",
    "First, assign the file name to a variable so that you do not have to type it too frequently."
   ]
  },
  {
   "cell_type": "code",
   "execution_count": 2,
   "metadata": {},
   "outputs": [],
   "source": [
    "gene_file='mm9_sel_chroms_knownGene.txt' # mouse chromosome sequences"
   ]
  },
  {
   "cell_type": "markdown",
   "metadata": {},
   "source": [
    "Now reading a file is straightforward in Python.  The easiest way is to use the readlines command to get the file in a list, where each element in the list is the content of a line."
   ]
  },
  {
   "cell_type": "code",
   "execution_count": 3,
   "metadata": {},
   "outputs": [],
   "source": [
    "fopen=open(gene_file).readlines()"
   ]
  },
  {
   "cell_type": "markdown",
   "metadata": {},
   "source": [
    "Now that the file is simply a list, you can check its length:"
   ]
  },
  {
   "cell_type": "code",
   "execution_count": 4,
   "metadata": {},
   "outputs": [
    {
     "data": {
      "text/plain": [
       "10674"
      ]
     },
     "execution_count": 4,
     "metadata": {},
     "output_type": "execute_result"
    }
   ],
   "source": [
    "len(fopen)"
   ]
  },
  {
   "cell_type": "markdown",
   "metadata": {},
   "source": [
    "There should be 10,674 lines in the file.\n",
    "\n",
    "You can now access fopen to peek at various parts of the list:"
   ]
  },
  {
   "cell_type": "code",
   "execution_count": 5,
   "metadata": {},
   "outputs": [
    {
     "data": {
      "text/plain": [
       "'uc009auw.1\\tchr6\\t+\\t3238518\\t3267019\\t3238518\\t3238518\\t3\\t3238518,3264405,3266613,\\t3238700,3264550,3267019,\\t\\tuc009auw.1\\n'"
      ]
     },
     "execution_count": 5,
     "metadata": {},
     "output_type": "execute_result"
    }
   ],
   "source": [
    "fopen[0]"
   ]
  },
  {
   "cell_type": "code",
   "execution_count": 6,
   "metadata": {},
   "outputs": [
    {
     "data": {
      "text/plain": [
       "'uc009dmc.2\\tchr6\\t-\\t119265150\\t119280784\\t119267073\\t119273733\\t5\\t119265150,119270438,119273666,119274218,119280512,\\t119267528,119271029,119273795,119274426,119280784,\\tQ8BGX3\\tuc009dmc.2\\n'"
      ]
     },
     "execution_count": 6,
     "metadata": {},
     "output_type": "execute_result"
    }
   ],
   "source": [
    "fopen[1999]"
   ]
  },
  {
   "cell_type": "markdown",
   "metadata": {},
   "source": [
    "However, this is pretty difficult to interpret.  The course module you loaded earlier contains a command called loadGeneFile designed to parse this file automatically into a nice dictionary."
   ]
  },
  {
   "cell_type": "code",
   "execution_count": 7,
   "metadata": {},
   "outputs": [
    {
     "name": "stdout",
     "output_type": "stream",
     "text": [
      "Parsed info for 10674 genes on 4 chromosomes\n"
     ]
    }
   ],
   "source": [
    "gene_info=loadGeneFile(gene_file)"
   ]
  },
  {
   "cell_type": "markdown",
   "metadata": {},
   "source": [
    "Now you can use the dictionary structure to analyze the data in the file. The keys of the dictionary represent gene names. "
   ]
  },
  {
   "cell_type": "code",
   "execution_count": 12,
   "metadata": {},
   "outputs": [],
   "source": [
    "#gene_info.keys()"
   ]
  },
  {
   "cell_type": "markdown",
   "metadata": {},
   "source": [
    "Each gene name can be used to access the necessary information, such as the chromosome and position of the gene on the chromosome:"
   ]
  },
  {
   "cell_type": "code",
   "execution_count": 13,
   "metadata": {},
   "outputs": [
    {
     "data": {
      "text/plain": [
       "'chr6'"
      ]
     },
     "execution_count": 13,
     "metadata": {},
     "output_type": "execute_result"
    }
   ],
   "source": [
    "gene_info['uc009auw.1']['chr']"
   ]
  },
  {
   "cell_type": "code",
   "execution_count": 14,
   "metadata": {},
   "outputs": [
    {
     "data": {
      "text/plain": [
       "3238518"
      ]
     },
     "execution_count": 14,
     "metadata": {},
     "output_type": "execute_result"
    }
   ],
   "source": [
    "gene_info['uc009auw.1']['start']"
   ]
  },
  {
   "cell_type": "code",
   "execution_count": null,
   "metadata": {},
   "outputs": [],
   "source": [
    "gene_info.getloc"
   ]
  },
  {
   "cell_type": "markdown",
   "metadata": {},
   "source": [
    "## evaluating the data\n",
    "\n",
    "The first question to ask is how many chromosomes are in this file?  I only selected a subset to be included in this course. \n",
    "\n",
    "To count the chromosomes we first create a list. Then for each gene, we look to see if the chromosome is in list.  If not, we add it:"
   ]
  },
  {
   "cell_type": "code",
   "execution_count": 18,
   "metadata": {},
   "outputs": [
    {
     "data": {
      "text/plain": [
       "['chr6', 'chr11', 'chr15', 'chr16']"
      ]
     },
     "execution_count": 18,
     "metadata": {},
     "output_type": "execute_result"
    }
   ],
   "source": [
    "chroms=[]\n",
    "\n",
    "for k in gene_info.keys():\n",
    "    chrom=gene_info[k]['chr']\n",
    "    if chrom not in chroms:\n",
    "        chroms=chroms+[chrom]\n",
    "\n",
    "# final list of chromosomes\n",
    "chroms"
   ]
  },
  {
   "cell_type": "code",
   "execution_count": 19,
   "metadata": {},
   "outputs": [
    {
     "data": {
      "text/plain": [
       "{'chr6': 2990, 'chr11': 3899, 'chr15': 2110, 'chr16': 1675}"
      ]
     },
     "execution_count": 19,
     "metadata": {},
     "output_type": "execute_result"
    }
   ],
   "source": [
    "gene_counts={}\n",
    "\n",
    "# we iterate through each of the chromosomes we have collected and count how many genes are on that chromosome\n",
    "for chrom in chroms:\n",
    "    chrom_count=0 \n",
    "    for k in gene_info.keys():\n",
    "        if gene_info[k]['chr']==chrom:\n",
    "            chrom_count+=1\n",
    "    gene_counts[chrom]=chrom_count\n",
    "\n",
    "gene_counts"
   ]
  }
 ],
 "metadata": {
  "kernelspec": {
   "display_name": "Python 3.7.9 ('.env': venv)",
   "language": "python",
   "name": "python3"
  },
  "language_info": {
   "codemirror_mode": {
    "name": "ipython",
    "version": 3
   },
   "file_extension": ".py",
   "mimetype": "text/x-python",
   "name": "python",
   "nbconvert_exporter": "python",
   "pygments_lexer": "ipython3",
   "version": "3.7.9"
  },
  "orig_nbformat": 4,
  "vscode": {
   "interpreter": {
    "hash": "c01d6001d3816177ab7574209f32366b6814e4c2622de16d4789f3834030e403"
   }
  }
 },
 "nbformat": 4,
 "nbformat_minor": 2
}
